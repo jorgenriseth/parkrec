{
 "cells": [
  {
   "cell_type": "code",
   "execution_count": 1,
   "id": "5a1ac8cc",
   "metadata": {},
   "outputs": [],
   "source": [
    "%load_ext autoreload\n",
    "%autoreload 2"
   ]
  },
  {
   "cell_type": "code",
   "execution_count": 2,
   "id": "ddefb25d",
   "metadata": {},
   "outputs": [
    {
     "name": "stdout",
     "output_type": "stream",
     "text": [
      "/home/jorgen/parkrec\n"
     ]
    }
   ],
   "source": [
    "%cd ~/parkrec"
   ]
  },
  {
   "cell_type": "code",
   "execution_count": 3,
   "id": "1ff24896",
   "metadata": {},
   "outputs": [],
   "source": [
    "import nibabel\n",
    "import numpy as np"
   ]
  },
  {
   "cell_type": "code",
   "execution_count": 4,
   "id": "577e46c5",
   "metadata": {},
   "outputs": [],
   "source": [
    "t1 = nibabel.load(\"DATA/PAT_001/VOLUMES/20230123_075013/T1.nii\")"
   ]
  },
  {
   "cell_type": "code",
   "execution_count": 77,
   "id": "df407ad6",
   "metadata": {},
   "outputs": [],
   "source": [
    "from pydantic import BaseModel"
   ]
  },
  {
   "cell_type": "code",
   "execution_count": 95,
   "id": "7f7cd024",
   "metadata": {},
   "outputs": [],
   "source": [
    "\n",
    "class PatientDataPathTemplate(BaseModel):\n",
    "    preregistered: str = \"PREREG\"\n",
    "    registered: str = \"REGISTERED\"\n",
    "    resampled: str = \"RESAMPLED\"\n",
    "    normalized: str = \"NORMALIZED\"\n",
    "    lta: str = \"LTA\"\n",
    "    looklocker: str = \"LOOKLOCKER\"\n",
    "    t2: str = \"T2\"\n",
    "    dti: str = \"DTI\"\n",
    "    concentrations: str = \"CONCENTRATIONS\"\n",
    "    fenics: str = \"FENICS\""
   ]
  },
  {
   "cell_type": "code",
   "execution_count": 96,
   "id": "8513207c",
   "metadata": {},
   "outputs": [],
   "source": [
    "temp = PatientDataPathTemplate()"
   ]
  },
  {
   "cell_type": "code",
   "execution_count": 100,
   "id": "c1f6c216",
   "metadata": {},
   "outputs": [],
   "source": [
    "from pathlib import Path"
   ]
  },
  {
   "cell_type": "code",
   "execution_count": 138,
   "id": "7da25c76",
   "metadata": {},
   "outputs": [],
   "source": [
    "@dataclass\n",
    "class PatientDataPathTemplate:\n",
    "    preregistered: str = \"PREREG\"\n",
    "    registered: str = \"REGISTERED\"\n",
    "    resampled: str = \"RESAMPLED\"\n",
    "    normalized: str = \"NORMALIZED\"\n",
    "    lta: str = \"LTA\"\n",
    "    looklocker: str = \"LOOKLOCKER\"\n",
    "    t2: str = \"T2\"\n",
    "    dti: str = \"DTI\"\n",
    "    concentrations: str = \"CONCENTRATIONS\"\n",
    "    fenics: str = \"FENICS\""
   ]
  },
  {
   "cell_type": "code",
   "execution_count": 139,
   "id": "90340f5b",
   "metadata": {},
   "outputs": [
    {
     "ename": "TypeError",
     "evalue": "PatientDataPathTemplate.__init__() got an unexpected keyword argument 'b'",
     "output_type": "error",
     "traceback": [
      "\u001b[0;31m---------------------------------------------------------------------------\u001b[0m",
      "\u001b[0;31mTypeError\u001b[0m                                 Traceback (most recent call last)",
      "Cell \u001b[0;32mIn[139], line 1\u001b[0m\n\u001b[0;32m----> 1\u001b[0m \u001b[43mPatientDataPathTemplate\u001b[49m\u001b[43m(\u001b[49m\u001b[43mb\u001b[49m\u001b[38;5;241;43m=\u001b[39;49m\u001b[38;5;124;43m\"\u001b[39;49m\u001b[38;5;124;43mbanana\u001b[39;49m\u001b[38;5;124;43m\"\u001b[39;49m\u001b[43m)\u001b[49m\n",
      "\u001b[0;31mTypeError\u001b[0m: PatientDataPathTemplate.__init__() got an unexpected keyword argument 'b'"
     ]
    }
   ],
   "source": [
    "PatientDataPathTemplate()"
   ]
  },
  {
   "cell_type": "code",
   "execution_count": 147,
   "id": "fcd614ab",
   "metadata": {},
   "outputs": [],
   "source": [
    "@dataclass\n",
    "class PatientDataPathTemplate:\n",
    "    preregistered: str = \"PREREG\"\n",
    "    registered: str = \"REGISTERED\"\n",
    "    resampled: str = \"RESAMPLED\"\n",
    "    normalized: str = \"NORMALIZED\"\n",
    "    lta: str = \"LTA\"\n",
    "    looklocker: str = \"LOOKLOCKER\"\n",
    "    t2: str = \"T2\"\n",
    "    dti: str = \"DTI\"\n",
    "    concentrations: str = \"CONCENTRATIONS\"\n",
    "    fenics: str = \"FENICS\"\n",
    "\n",
    "\n",
    "@dataclass\n",
    "class PatientDataPaths:\n",
    "    root: Path\n",
    "    preregistered: Path\n",
    "    registered: Path\n",
    "    resampled: Path\n",
    "    normalized: Path\n",
    "    lta: Path\n",
    "    looklocker: Path\n",
    "    t2: Path\n",
    "    dti: Path\n",
    "    concentrations: Path\n",
    "    fenics: Path\n",
    "\n",
    "    def __init__(self, patpath: Path, **kwargs):\n",
    "        self.root = patpath\n",
    "        subkwargs = {\n",
    "            key: val\n",
    "            for key, val in kwargs.items()\n",
    "            if key in fields(PatientDataPathTemplate)\n",
    "        }\n",
    "        for key, val in PatientDataPathTemplate(**subkwargs).__dict__.items():\n",
    "            if not key.startswith(\"__\"):\n",
    "                setattr(self, key, Path(patpath) / val)"
   ]
  },
  {
   "cell_type": "code",
   "execution_count": 148,
   "id": "c9de0aea",
   "metadata": {},
   "outputs": [
    {
     "ename": "TypeError",
     "evalue": "PatientDataPaths.__init__() missing 1 required positional argument: 'patpath'",
     "output_type": "error",
     "traceback": [
      "\u001b[0;31m---------------------------------------------------------------------------\u001b[0m",
      "\u001b[0;31mTypeError\u001b[0m                                 Traceback (most recent call last)",
      "Cell \u001b[0;32mIn[148], line 1\u001b[0m\n\u001b[0;32m----> 1\u001b[0m \u001b[43mPatientDataPaths\u001b[49m\u001b[43m(\u001b[49m\u001b[43mbanana\u001b[49m\u001b[38;5;241;43m=\u001b[39;49m\u001b[38;5;124;43m\"\u001b[39;49m\u001b[38;5;124;43mbanana\u001b[39;49m\u001b[38;5;124;43m\"\u001b[39;49m\u001b[43m)\u001b[49m\n",
      "\u001b[0;31mTypeError\u001b[0m: PatientDataPaths.__init__() missing 1 required positional argument: 'patpath'"
     ]
    }
   ],
   "source": [
    "PatientDataPaths(banana=\"banana\")"
   ]
  },
  {
   "cell_type": "code",
   "execution_count": 149,
   "id": "24ec8ce7",
   "metadata": {},
   "outputs": [],
   "source": [
    "from dataclasses import dataclass, fields"
   ]
  },
  {
   "cell_type": "code",
   "execution_count": null,
   "id": "a5d0946e",
   "metadata": {},
   "outputs": [],
   "source": []
  },
  {
   "cell_type": "code",
   "execution_count": 156,
   "id": "4feeb183",
   "metadata": {},
   "outputs": [],
   "source": [
    "@dataclass\n",
    "class Foo:\n",
    "    baz: int\n",
    "    bar: str = \"Hei\"\n",
    "    banana: int = 2\n",
    "        \n",
    "    def __init__(self, baz, **kwargs):\n",
    "        self.baz = baz"
   ]
  },
  {
   "cell_type": "code",
   "execution_count": 161,
   "id": "e24b2936",
   "metadata": {},
   "outputs": [
    {
     "data": {
      "text/plain": [
       "Foo(baz=1, bar='Hei', banana=2)"
      ]
     },
     "execution_count": 161,
     "metadata": {},
     "output_type": "execute_result"
    }
   ],
   "source": [
    "Foo(1, banana=4)"
   ]
  },
  {
   "cell_type": "code",
   "execution_count": 154,
   "id": "78877003",
   "metadata": {},
   "outputs": [
    {
     "ename": "TypeError",
     "evalue": "object.__init__() takes exactly one argument (the instance to initialize)",
     "output_type": "error",
     "traceback": [
      "\u001b[0;31m---------------------------------------------------------------------------\u001b[0m",
      "\u001b[0;31mTypeError\u001b[0m                                 Traceback (most recent call last)",
      "Cell \u001b[0;32mIn[154], line 1\u001b[0m\n\u001b[0;32m----> 1\u001b[0m \u001b[43mFoo\u001b[49m\u001b[43m(\u001b[49m\u001b[38;5;241;43m1\u001b[39;49m\u001b[43m)\u001b[49m\n",
      "Cell \u001b[0;32mIn[152], line 8\u001b[0m, in \u001b[0;36mFoo.__init__\u001b[0;34m(self, baz, **kwargs)\u001b[0m\n\u001b[1;32m      7\u001b[0m \u001b[38;5;28;01mdef\u001b[39;00m \u001b[38;5;21m__init__\u001b[39m(\u001b[38;5;28mself\u001b[39m, baz, \u001b[38;5;241m*\u001b[39m\u001b[38;5;241m*\u001b[39mkwargs):\n\u001b[0;32m----> 8\u001b[0m     \u001b[38;5;28;43msuper\u001b[39;49m\u001b[43m(\u001b[49m\u001b[43m)\u001b[49m\u001b[38;5;241;43m.\u001b[39;49m\u001b[38;5;21;43m__init__\u001b[39;49m\u001b[43m(\u001b[49m\u001b[43mbaz\u001b[49m\u001b[43m,\u001b[49m\u001b[43m \u001b[49m\u001b[38;5;241;43m*\u001b[39;49m\u001b[38;5;241;43m*\u001b[39;49m\u001b[43mkwargs\u001b[49m\u001b[43m)\u001b[49m\n",
      "\u001b[0;31mTypeError\u001b[0m: object.__init__() takes exactly one argument (the instance to initialize)"
     ]
    }
   ],
   "source": [
    "Foo(1)"
   ]
  },
  {
   "cell_type": "code",
   "execution_count": 151,
   "id": "1499f8b6",
   "metadata": {},
   "outputs": [
    {
     "data": {
      "text/plain": [
       "PatientDataPaths(root='DATA/PAT_002', preregistered=PosixPath('DATA/PAT_002/PREREG'), registered=PosixPath('DATA/PAT_002/REGISTERED'), resampled=PosixPath('DATA/PAT_002/RESAMPLED'), normalized=PosixPath('DATA/PAT_002/NORMALIZED'), lta=PosixPath('DATA/PAT_002/LTA'), looklocker=PosixPath('DATA/PAT_002/LOOKLOCKER'), t2=PosixPath('DATA/PAT_002/T2'), dti=PosixPath('DATA/PAT_002/DTI'), concentrations=PosixPath('DATA/PAT_002/CONCENTRATIONS'), fenics=PosixPath('DATA/PAT_002/FENICS'))"
      ]
     },
     "execution_count": 151,
     "metadata": {},
     "output_type": "execute_result"
    }
   ],
   "source": [
    "PatientDataPaths(\"DATA/PAT_002\", concentrations=\"CONCS_synthetic\", banananana=\"banan\")"
   ]
  },
  {
   "cell_type": "code",
   "execution_count": 104,
   "id": "6677f904",
   "metadata": {},
   "outputs": [],
   "source": [
    "class PatientDataPaths:\n",
    "    preregistered: str = \"PREREG\"\n",
    "    registered: str = \"REGISTERED\"\n",
    "    resampled: str = \"RESAMPLED\"\n",
    "    normalized: str = \"NORMALIZED\"\n",
    "    lta: str = \"LTA\"\n",
    "    looklocker: str = \"LOOKLOCKER\"\n",
    "    t2: str = \"T2\"\n",
    "    dti: str = \"DTI\"\n",
    "    concentrations: str = \"CONCENTRATIONS\"\n",
    "    fenics: str = \"FENICS\"\n",
    "    def __init__(self, patpath: Path):\n",
    "        for key, val in PatientDataPathTemplate().__dict__.items():\n",
    "            if not key.startswith(\"__\"):\n",
    "                setattr(self, key, patpath / val)"
   ]
  },
  {
   "cell_type": "code",
   "execution_count": 103,
   "id": "0712cf79",
   "metadata": {},
   "outputs": [
    {
     "data": {
      "text/plain": [
       "{'preregistered': 'PREREG',\n",
       " 'registered': 'REGISTERED',\n",
       " 'resampled': 'RESAMPLED',\n",
       " 'normalized': 'NORMALIZED',\n",
       " 'lta': 'LTA',\n",
       " 'looklocker': 'LOOKLOCKER',\n",
       " 't2': 'T2',\n",
       " 'dti': 'DTI',\n",
       " 'concentrations': 'CONCENTRATIONS',\n",
       " 'fenics': 'FENICS'}"
      ]
     },
     "execution_count": 103,
     "metadata": {},
     "output_type": "execute_result"
    }
   ],
   "source": [
    "PatientDataPathTemplate().__dict__"
   ]
  },
  {
   "cell_type": "code",
   "execution_count": 106,
   "id": "30daaac6",
   "metadata": {},
   "outputs": [
    {
     "data": {
      "text/plain": [
       "<__main__.PatientDataPaths at 0x7fb6d9629dd0>"
      ]
     },
     "execution_count": 106,
     "metadata": {},
     "output_type": "execute_result"
    }
   ],
   "source": [
    "PatientDataPaths(Path(\"DATA/PAT_002\"))"
   ]
  },
  {
   "cell_type": "code",
   "execution_count": 98,
   "id": "25e27090",
   "metadata": {},
   "outputs": [
    {
     "data": {
      "text/plain": [
       "{'preregistered': 'PREREG',\n",
       " 'registered': 'REGISTERED',\n",
       " 'resampled': 'RESAMPLED',\n",
       " 'normalized': 'NORMALIZED',\n",
       " 'lta': 'LTA',\n",
       " 'looklocker': 'LOOKLOCKER',\n",
       " 't2': 'T2',\n",
       " 'dti': 'DTI',\n",
       " 'concentrations': 'CONCENTRATIONS',\n",
       " 'fenics': 'FENICS'}"
      ]
     },
     "execution_count": 98,
     "metadata": {},
     "output_type": "execute_result"
    }
   ],
   "source": [
    "temp.__dict__"
   ]
  },
  {
   "cell_type": "code",
   "execution_count": 88,
   "id": "ca04abcf",
   "metadata": {},
   "outputs": [],
   "source": [
    "class TestModel(BaseModel):\n",
    "    a: str\n",
    "    b: str\n",
    "        \n",
    "        "
   ]
  },
  {
   "cell_type": "code",
   "execution_count": 90,
   "id": "48d5a785",
   "metadata": {},
   "outputs": [],
   "source": [
    "args = {\"a\": \"aa\"}"
   ]
  },
  {
   "cell_type": "code",
   "execution_count": 91,
   "id": "d336f13d",
   "metadata": {},
   "outputs": [
    {
     "data": {
      "text/plain": [
       "TestModel(a='aa', b=2)"
      ]
     },
     "execution_count": 91,
     "metadata": {},
     "output_type": "execute_result"
    }
   ],
   "source": [
    "TestModel(**args)"
   ]
  },
  {
   "cell_type": "code",
   "execution_count": null,
   "id": "58a39238",
   "metadata": {},
   "outputs": [],
   "source": []
  },
  {
   "cell_type": "code",
   "execution_count": 5,
   "id": "094aad09",
   "metadata": {},
   "outputs": [
    {
     "name": "stdout",
     "output_type": "stream",
     "text": [
      "<class 'nibabel.nifti1.Nifti1Header'> object, endian='<'\n",
      "sizeof_hdr      : 348\n",
      "data_type       : b''\n",
      "db_name         : b''\n",
      "extents         : 0\n",
      "session_error   : 0\n",
      "regular         : b'r'\n",
      "dim_info        : 54\n",
      "dim             : [  3 368 512 512   1   1   1   1]\n",
      "intent_p1       : 0.0\n",
      "intent_p2       : 0.0\n",
      "intent_p3       : 0.0\n",
      "intent_code     : none\n",
      "datatype        : int16\n",
      "bitpix          : 16\n",
      "slice_start     : 0\n",
      "pixdim          : [1.        0.5       0.5001665 0.5001665 0.0052    0.        0.\n",
      " 0.       ]\n",
      "vox_offset      : 0.0\n",
      "scl_slope       : nan\n",
      "scl_inter       : nan\n",
      "slice_end       : 0\n",
      "slice_code      : unknown\n",
      "xyzt_units      : 10\n",
      "cal_max         : 0.0\n",
      "cal_min         : 0.0\n",
      "slice_duration  : 0.0\n",
      "toffset         : 0.0\n",
      "glmax           : 0\n",
      "glmin           : 0\n",
      "descrip         : b'TE=2.3;Time=75350.530'\n",
      "aux_file        : b''\n",
      "qform_code      : scanner\n",
      "sform_code      : scanner\n",
      "quatern_b       : 0.0278303\n",
      "quatern_c       : 0.028548533\n",
      "quatern_d       : 0.01803123\n",
      "qoffset_x       : -93.228226\n",
      "qoffset_y       : -106.793945\n",
      "qoffset_z       : -108.508194\n",
      "srow_x          : [ 4.9885985e-01 -1.7225178e-02  2.9032668e-02 -9.3228226e+01]\n",
      "srow_y          : [ 1.88084748e-02  4.99066472e-01 -2.72979643e-02 -1.06793945e+02]\n",
      "srow_z          : [-2.80193742e-02  2.83278376e-02  4.98576403e-01 -1.08508194e+02]\n",
      "intent_name     : b''\n",
      "magic           : b'n+1'\n"
     ]
    }
   ],
   "source": [
    "print(t1.header)"
   ]
  },
  {
   "cell_type": "code",
   "execution_count": null,
   "id": "5ccc611d",
   "metadata": {},
   "outputs": [],
   "source": [
    "import datetime\n",
    "\n",
    "def parse_time_string(time_string):\n",
    "    # Remove leading zeros and colons\n",
    "    time_string = time_string.strip('0').replace(':', '')\n",
    "    \n",
    "    # Parse hours, minutes, seconds, and microseconds\n",
    "    hours = int(time_string[:2])\n",
    "    minutes = int(time_string[2:4])\n",
    "    seconds = int(time_string[4:6])\n",
    "    microseconds = int(time_string[6:]) * 1000\n",
    "    \n",
    "    # Create datetime object for current date and calculated time\n",
    "    now = datetime.datetime.now()\n",
    "    date = datetime.date(now.year, now.month, now.day)\n",
    "    time = datetime.time(hours, minutes, seconds, microseconds)\n",
    "    return datetime.datetime.combine(date, time)"
   ]
  },
  {
   "cell_type": "code",
   "execution_count": 6,
   "id": "9a3dab8d",
   "metadata": {},
   "outputs": [
    {
     "data": {
      "text/plain": [
       "array([[ 4.98859853e-01, -1.72251780e-02,  2.90326681e-02,\n",
       "        -9.32282257e+01],\n",
       "       [ 1.88084748e-02,  4.99066472e-01, -2.72979643e-02,\n",
       "        -1.06793945e+02],\n",
       "       [-2.80193742e-02,  2.83278376e-02,  4.98576403e-01,\n",
       "        -1.08508194e+02],\n",
       "       [ 0.00000000e+00,  0.00000000e+00,  0.00000000e+00,\n",
       "         1.00000000e+00]])"
      ]
     },
     "execution_count": 6,
     "metadata": {},
     "output_type": "execute_result"
    }
   ],
   "source": [
    "t1.affine"
   ]
  },
  {
   "cell_type": "code",
   "execution_count": 26,
   "id": "441833aa",
   "metadata": {},
   "outputs": [],
   "source": [
    "x = t1.header[\"descrip\"]"
   ]
  },
  {
   "cell_type": "code",
   "execution_count": 30,
   "id": "0c88bebe",
   "metadata": {},
   "outputs": [],
   "source": [
    "arr = np.array([b'TE=2.3;Time=75350.530'], dtype='S80')"
   ]
  },
  {
   "cell_type": "code",
   "execution_count": 36,
   "id": "b99b453e",
   "metadata": {},
   "outputs": [],
   "source": [
    "import datetime"
   ]
  },
  {
   "cell_type": "code",
   "execution_count": 38,
   "id": "522534a4",
   "metadata": {},
   "outputs": [
    {
     "ename": "ValueError",
     "evalue": "'-' is a bad directive in format '%-H%M%S.%f'",
     "output_type": "error",
     "traceback": [
      "\u001b[0;31m---------------------------------------------------------------------------\u001b[0m",
      "\u001b[0;31mValueError\u001b[0m                                Traceback (most recent call last)",
      "Cell \u001b[0;32mIn[38], line 1\u001b[0m\n\u001b[0;32m----> 1\u001b[0m \u001b[43mdatetime\u001b[49m\u001b[38;5;241;43m.\u001b[39;49m\u001b[43mdatetime\u001b[49m\u001b[38;5;241;43m.\u001b[39;49m\u001b[43mstrptime\u001b[49m\u001b[43m(\u001b[49m\u001b[38;5;124;43m\"\u001b[39;49m\u001b[38;5;124;43m75350.530\u001b[39;49m\u001b[38;5;124;43m\"\u001b[39;49m\u001b[43m,\u001b[49m\u001b[43m \u001b[49m\u001b[38;5;124;43m\"\u001b[39;49m\u001b[38;5;124;43m%\u001b[39;49m\u001b[38;5;124;43m-H\u001b[39;49m\u001b[38;5;124;43m%\u001b[39;49m\u001b[38;5;124;43mM\u001b[39;49m\u001b[38;5;124;43m%\u001b[39;49m\u001b[38;5;124;43mS.\u001b[39;49m\u001b[38;5;132;43;01m%f\u001b[39;49;00m\u001b[38;5;124;43m\"\u001b[39;49m\u001b[43m)\u001b[49m\n",
      "File \u001b[0;32m~/programs/mambaforge/envs/parcrec/lib/python3.11/_strptime.py:568\u001b[0m, in \u001b[0;36m_strptime_datetime\u001b[0;34m(cls, data_string, format)\u001b[0m\n\u001b[1;32m    565\u001b[0m \u001b[38;5;28;01mdef\u001b[39;00m \u001b[38;5;21m_strptime_datetime\u001b[39m(\u001b[38;5;28mcls\u001b[39m, data_string, \u001b[38;5;28mformat\u001b[39m\u001b[38;5;241m=\u001b[39m\u001b[38;5;124m\"\u001b[39m\u001b[38;5;132;01m%a\u001b[39;00m\u001b[38;5;124m \u001b[39m\u001b[38;5;124m%\u001b[39m\u001b[38;5;124mb \u001b[39m\u001b[38;5;132;01m%d\u001b[39;00m\u001b[38;5;124m \u001b[39m\u001b[38;5;124m%\u001b[39m\u001b[38;5;124mH:\u001b[39m\u001b[38;5;124m%\u001b[39m\u001b[38;5;124mM:\u001b[39m\u001b[38;5;124m%\u001b[39m\u001b[38;5;124mS \u001b[39m\u001b[38;5;124m%\u001b[39m\u001b[38;5;124mY\u001b[39m\u001b[38;5;124m\"\u001b[39m):\n\u001b[1;32m    566\u001b[0m \u001b[38;5;250m    \u001b[39m\u001b[38;5;124;03m\"\"\"Return a class cls instance based on the input string and the\u001b[39;00m\n\u001b[1;32m    567\u001b[0m \u001b[38;5;124;03m    format string.\"\"\"\u001b[39;00m\n\u001b[0;32m--> 568\u001b[0m     tt, fraction, gmtoff_fraction \u001b[38;5;241m=\u001b[39m \u001b[43m_strptime\u001b[49m\u001b[43m(\u001b[49m\u001b[43mdata_string\u001b[49m\u001b[43m,\u001b[49m\u001b[43m \u001b[49m\u001b[38;5;28;43mformat\u001b[39;49m\u001b[43m)\u001b[49m\n\u001b[1;32m    569\u001b[0m     tzname, gmtoff \u001b[38;5;241m=\u001b[39m tt[\u001b[38;5;241m-\u001b[39m\u001b[38;5;241m2\u001b[39m:]\n\u001b[1;32m    570\u001b[0m     args \u001b[38;5;241m=\u001b[39m tt[:\u001b[38;5;241m6\u001b[39m] \u001b[38;5;241m+\u001b[39m (fraction,)\n",
      "File \u001b[0;32m~/programs/mambaforge/envs/parcrec/lib/python3.11/_strptime.py:341\u001b[0m, in \u001b[0;36m_strptime\u001b[0;34m(data_string, format)\u001b[0m\n\u001b[1;32m    339\u001b[0m         bad_directive \u001b[38;5;241m=\u001b[39m \u001b[38;5;124m\"\u001b[39m\u001b[38;5;124m%\u001b[39m\u001b[38;5;124m\"\u001b[39m\n\u001b[1;32m    340\u001b[0m     \u001b[38;5;28;01mdel\u001b[39;00m err\n\u001b[0;32m--> 341\u001b[0m     \u001b[38;5;28;01mraise\u001b[39;00m \u001b[38;5;167;01mValueError\u001b[39;00m(\u001b[38;5;124m\"\u001b[39m\u001b[38;5;124m'\u001b[39m\u001b[38;5;132;01m%s\u001b[39;00m\u001b[38;5;124m'\u001b[39m\u001b[38;5;124m is a bad directive in format \u001b[39m\u001b[38;5;124m'\u001b[39m\u001b[38;5;132;01m%s\u001b[39;00m\u001b[38;5;124m'\u001b[39m\u001b[38;5;124m\"\u001b[39m \u001b[38;5;241m%\u001b[39m\n\u001b[1;32m    342\u001b[0m                         (bad_directive, \u001b[38;5;28mformat\u001b[39m)) \u001b[38;5;28;01mfrom\u001b[39;00m \u001b[38;5;28mNone\u001b[39m\n\u001b[1;32m    343\u001b[0m \u001b[38;5;66;03m# IndexError only occurs when the format string is \"%\"\u001b[39;00m\n\u001b[1;32m    344\u001b[0m \u001b[38;5;28;01mexcept\u001b[39;00m \u001b[38;5;167;01mIndexError\u001b[39;00m:\n",
      "\u001b[0;31mValueError\u001b[0m: '-' is a bad directive in format '%-H%M%S.%f'"
     ]
    }
   ],
   "source": [
    "datetime.datetime.strptime(\"75350.530\", \"%-H%M%S.%f\")"
   ]
  },
  {
   "cell_type": "code",
   "execution_count": 35,
   "id": "f21d759c",
   "metadata": {},
   "outputs": [
    {
     "data": {
      "text/plain": [
       "'TE=2.3;Time=75350.530'"
      ]
     },
     "execution_count": 35,
     "metadata": {},
     "output_type": "execute_result"
    }
   ],
   "source": [
    "arr.tobytes().decode('utf-8').rstrip(\"\\x00\")"
   ]
  },
  {
   "cell_type": "code",
   "execution_count": 49,
   "id": "679daca8",
   "metadata": {},
   "outputs": [],
   "source": [
    "nii_image = t1"
   ]
  },
  {
   "cell_type": "code",
   "execution_count": 50,
   "id": "f8168a2b",
   "metadata": {},
   "outputs": [],
   "source": [
    "\n",
    "arr = nii_image.header[\"descrip\"]\n",
    "string = arr.tobytes().decode('utf-8').rstrip(\"\\x00\")"
   ]
  },
  {
   "cell_type": "code",
   "execution_count": 55,
   "id": "d550946b",
   "metadata": {},
   "outputs": [
    {
     "data": {
      "text/plain": [
       "'Time=75350.530'"
      ]
     },
     "execution_count": 55,
     "metadata": {},
     "output_type": "execute_result"
    }
   ],
   "source": [
    "string.split(\";\")[-1]"
   ]
  },
  {
   "cell_type": "code",
   "execution_count": 57,
   "id": "9f5cd921",
   "metadata": {},
   "outputs": [],
   "source": [
    "import re"
   ]
  },
  {
   "cell_type": "code",
   "execution_count": null,
   "id": "2a52c6fb",
   "metadata": {},
   "outputs": [],
   "source": [
    "re."
   ]
  },
  {
   "cell_type": "code",
   "execution_count": 60,
   "id": "a209d948",
   "metadata": {},
   "outputs": [
    {
     "data": {
      "text/plain": [
       "'TE=2.3;Time=75350.530'"
      ]
     },
     "execution_count": 60,
     "metadata": {},
     "output_type": "execute_result"
    }
   ],
   "source": [
    "string"
   ]
  },
  {
   "cell_type": "code",
   "execution_count": 65,
   "id": "08db578f",
   "metadata": {},
   "outputs": [],
   "source": [
    "\n",
    "m = re.search(\"(?<=Time)\\d{5,6}\\.\\d+\", string)"
   ]
  },
  {
   "cell_type": "code",
   "execution_count": 68,
   "id": "c01b3d17",
   "metadata": {},
   "outputs": [
    {
     "ename": "AttributeError",
     "evalue": "'NoneType' object has no attribute 'groups'",
     "output_type": "error",
     "traceback": [
      "\u001b[0;31m---------------------------------------------------------------------------\u001b[0m",
      "\u001b[0;31mAttributeError\u001b[0m                            Traceback (most recent call last)",
      "Cell \u001b[0;32mIn[68], line 1\u001b[0m\n\u001b[0;32m----> 1\u001b[0m \u001b[43mm\u001b[49m\u001b[38;5;241;43m.\u001b[39;49m\u001b[43mgroups\u001b[49m()\n",
      "\u001b[0;31mAttributeError\u001b[0m: 'NoneType' object has no attribute 'groups'"
     ]
    }
   ],
   "source": [
    "m.groups()"
   ]
  },
  {
   "cell_type": "code",
   "execution_count": 73,
   "id": "273e8125",
   "metadata": {},
   "outputs": [
    {
     "name": "stdout",
     "output_type": "stream",
     "text": [
      "75350.530\n"
     ]
    }
   ],
   "source": [
    "# Match the time part\n",
    "pattern = r\"Time=(\\d{5,6}\\.\\d+)\"\n",
    "match = re.search(pattern, string)\n",
    "\n",
    "# Extract the time part\n",
    "if match:\n",
    "    time_part = match.group(1)\n",
    "    print(time_part)"
   ]
  },
  {
   "cell_type": "code",
   "execution_count": 56,
   "id": "5ddfdabf",
   "metadata": {},
   "outputs": [
    {
     "data": {
      "text/plain": [
       "['TE', '2.3;Time', '75350.530']"
      ]
     },
     "execution_count": 56,
     "metadata": {},
     "output_type": "execute_result"
    }
   ],
   "source": [
    "string.split(\"=\")"
   ]
  },
  {
   "cell_type": "code",
   "execution_count": 76,
   "id": "1c918d3b",
   "metadata": {},
   "outputs": [
    {
     "ename": "RuntimeError",
     "evalue": "e",
     "output_type": "error",
     "traceback": [
      "\u001b[0;31m---------------------------------------------------------------------------\u001b[0m",
      "\u001b[0;31mRuntimeError\u001b[0m                              Traceback (most recent call last)",
      "Cell \u001b[0;32mIn[76], line 1\u001b[0m\n\u001b[0;32m----> 1\u001b[0m \u001b[38;5;28;01mraise\u001b[39;00m \u001b[38;5;167;01mRuntimeError\u001b[39;00m(\u001b[38;5;124m\"\u001b[39m\u001b[38;5;124me\u001b[39m\u001b[38;5;124m\"\u001b[39m)\n",
      "\u001b[0;31mRuntimeError\u001b[0m: e"
     ]
    }
   ],
   "source": [
    "raise RuntimeError(\"e\")"
   ]
  },
  {
   "cell_type": "code",
   "execution_count": 46,
   "id": "13d78484",
   "metadata": {},
   "outputs": [],
   "source": [
    "import datetime\n",
    "\n",
    "def parse_time(nii_image):\n",
    "    \n",
    "    arr = nii_image.header[\"descrip\"]\n",
    "    string = arr.tobytes().decode('utf-8').rstrip(\"\\x00\")\n",
    "    \n",
    "    # Match the time part\n",
    "    pattern = r\"Time=(\\d{5,6}\\.\\d+)\"\n",
    "    match = re.search(pattern, string)\n",
    "\n",
    "    # Extract the time part\n",
    "    if match:\n",
    "        time_part = match.group(1)\n",
    "    else: \n",
    "        raise RuntimeError(\"Could not extract timestamp from \")\n",
    "    # Create datetime object for current date and calculated time\n",
    "    now = datetime.datetime.now()\n",
    "    date = datetime.date(now.year, now.month, now.day)\n",
    "    time = datetime.time(hours, minutes, seconds, microseconds)\n",
    "    return datetime.datetime.combine(date, time)\n"
   ]
  },
  {
   "cell_type": "code",
   "execution_count": 47,
   "id": "b62fef73",
   "metadata": {},
   "outputs": [
    {
     "name": "stdout",
     "output_type": "stream",
     "text": [
      "75350.530\n"
     ]
    },
    {
     "ename": "ValueError",
     "evalue": "invalid literal for int() with base 10: '0.'",
     "output_type": "error",
     "traceback": [
      "\u001b[0;31m---------------------------------------------------------------------------\u001b[0m",
      "\u001b[0;31mValueError\u001b[0m                                Traceback (most recent call last)",
      "Cell \u001b[0;32mIn[47], line 1\u001b[0m\n\u001b[0;32m----> 1\u001b[0m \u001b[43mparse_time\u001b[49m\u001b[43m(\u001b[49m\u001b[43mt1\u001b[49m\u001b[43m)\u001b[49m\n",
      "Cell \u001b[0;32mIn[46], line 18\u001b[0m, in \u001b[0;36mparse_time\u001b[0;34m(nii_image)\u001b[0m\n\u001b[1;32m     16\u001b[0m hours \u001b[38;5;241m=\u001b[39m \u001b[38;5;28mint\u001b[39m(time_string[:\u001b[38;5;241m2\u001b[39m])\n\u001b[1;32m     17\u001b[0m minutes \u001b[38;5;241m=\u001b[39m \u001b[38;5;28mint\u001b[39m(time_string[\u001b[38;5;241m2\u001b[39m:\u001b[38;5;241m4\u001b[39m])\n\u001b[0;32m---> 18\u001b[0m seconds \u001b[38;5;241m=\u001b[39m \u001b[38;5;28;43mint\u001b[39;49m\u001b[43m(\u001b[49m\u001b[43mtime_string\u001b[49m\u001b[43m[\u001b[49m\u001b[38;5;241;43m4\u001b[39;49m\u001b[43m:\u001b[49m\u001b[38;5;241;43m6\u001b[39;49m\u001b[43m]\u001b[49m\u001b[43m)\u001b[49m\n\u001b[1;32m     19\u001b[0m microseconds \u001b[38;5;241m=\u001b[39m \u001b[38;5;28mint\u001b[39m(time_string[\u001b[38;5;241m6\u001b[39m:]) \u001b[38;5;241m*\u001b[39m \u001b[38;5;241m1000\u001b[39m\n\u001b[1;32m     21\u001b[0m \u001b[38;5;66;03m# Create datetime object for current date and calculated time\u001b[39;00m\n",
      "\u001b[0;31mValueError\u001b[0m: invalid literal for int() with base 10: '0.'"
     ]
    }
   ],
   "source": [
    "parse_time(t1)"
   ]
  },
  {
   "cell_type": "code",
   "execution_count": 32,
   "id": "d362b232",
   "metadata": {},
   "outputs": [
    {
     "data": {
      "text/plain": [
       "array(b'TE=2.3;Time=75350.530', dtype='|S80')"
      ]
     },
     "execution_count": 32,
     "metadata": {},
     "output_type": "execute_result"
    }
   ],
   "source": [
    "x"
   ]
  },
  {
   "cell_type": "code",
   "execution_count": 29,
   "id": "74aff4d8",
   "metadata": {},
   "outputs": [
    {
     "data": {
      "text/plain": [
       "'TE=2.3;Time=75350.530\\x00\\x00\\x00\\x00\\x00\\x00\\x00\\x00\\x00\\x00\\x00\\x00\\x00\\x00\\x00\\x00\\x00\\x00\\x00\\x00\\x00\\x00\\x00\\x00\\x00\\x00\\x00\\x00\\x00\\x00\\x00\\x00\\x00\\x00\\x00\\x00\\x00\\x00\\x00\\x00\\x00\\x00\\x00\\x00\\x00\\x00\\x00\\x00\\x00\\x00\\x00\\x00\\x00\\x00\\x00\\x00\\x00\\x00\\x00'"
      ]
     },
     "execution_count": 29,
     "metadata": {},
     "output_type": "execute_result"
    }
   ],
   "source": [
    "x.tobytes().decode('utf-8')"
   ]
  },
  {
   "cell_type": "code",
   "execution_count": 25,
   "id": "754404f7",
   "metadata": {},
   "outputs": [
    {
     "data": {
      "text/plain": [
       "numpy.ndarray"
      ]
     },
     "execution_count": 25,
     "metadata": {},
     "output_type": "execute_result"
    }
   ],
   "source": [
    "type(t1.header[\"descrip\"]"
   ]
  },
  {
   "cell_type": "code",
   "execution_count": 23,
   "id": "644c99c4",
   "metadata": {},
   "outputs": [
    {
     "ename": "SyntaxError",
     "evalue": "unterminated string literal (detected at line 1) (3194973968.py, line 1)",
     "output_type": "error",
     "traceback": [
      "\u001b[0;36m  Cell \u001b[0;32mIn[23], line 1\u001b[0;36m\u001b[0m\n\u001b[0;31m    t1.header[\"descrip\"].astype(\"str\").tobytes().\")\u001b[0m\n\u001b[0m                                                 ^\u001b[0m\n\u001b[0;31mSyntaxError\u001b[0m\u001b[0;31m:\u001b[0m unterminated string literal (detected at line 1)\n"
     ]
    }
   ],
   "source": [
    "t1.header[\"descrip\"].astype(\"str\").tobytes().\")"
   ]
  },
  {
   "cell_type": "code",
   "execution_count": 18,
   "id": "1547b77e",
   "metadata": {},
   "outputs": [
    {
     "data": {
      "text/plain": [
       "'TE=2.3;Time=75350.530\\x00\\x00\\x00\\x00\\x00\\x00\\x00\\x00\\x00\\x00\\x00\\x00\\x00\\x00\\x00\\x00\\x00\\x00\\x00\\x00\\x00\\x00\\x00\\x00\\x00\\x00\\x00\\x00\\x00\\x00\\x00\\x00\\x00\\x00\\x00\\x00\\x00\\x00\\x00\\x00\\x00\\x00\\x00\\x00\\x00\\x00\\x00\\x00\\x00\\x00\\x00\\x00\\x00\\x00\\x00\\x00\\x00\\x00\\x00'"
      ]
     },
     "execution_count": 18,
     "metadata": {},
     "output_type": "execute_result"
    }
   ],
   "source": [
    "t1.header[\"descrip\"].tobytes().decode(\"utf-8\")"
   ]
  },
  {
   "cell_type": "code",
   "execution_count": 20,
   "id": "ee5f784e",
   "metadata": {},
   "outputs": [
    {
     "data": {
      "text/plain": [
       "array([[[  0.        ,   0.        ,   0.        , ...,   0.        ,\n",
       "           0.        ,   0.        ],\n",
       "        [  0.        ,   0.        ,   0.        , ...,   0.        ,\n",
       "           0.        ,   0.        ],\n",
       "        [  0.        ,   0.        ,   0.        , ...,   0.        ,\n",
       "           0.        ,   0.        ],\n",
       "        ...,\n",
       "        [  0.        ,   0.        ,   0.        , ...,   0.        ,\n",
       "           0.        ,   0.        ],\n",
       "        [  0.        ,   0.        ,   0.        , ...,   0.        ,\n",
       "           0.        ,   0.        ],\n",
       "        [  0.        ,   0.        ,   0.        , ...,   0.        ,\n",
       "           0.        ,   0.        ]],\n",
       "\n",
       "       [[  0.        ,   0.        ,   0.        , ...,   0.        ,\n",
       "           0.        ,   0.        ],\n",
       "        [  0.        ,   0.        ,   0.        , ...,   0.        ,\n",
       "           0.        ,   0.        ],\n",
       "        [  0.        ,   0.        ,   0.        , ...,   0.        ,\n",
       "           0.        ,   0.        ],\n",
       "        ...,\n",
       "        [  0.        ,   0.        ,   0.        , ...,   0.        ,\n",
       "           0.        ,   0.        ],\n",
       "        [  0.        ,   0.        ,   0.        , ...,   0.        ,\n",
       "           0.        ,   0.        ],\n",
       "        [  0.        ,   0.        ,   0.        , ...,   0.        ,\n",
       "           0.        ,   0.        ]],\n",
       "\n",
       "       [[  0.        ,   0.        ,   0.        , ...,   0.        ,\n",
       "           0.        ,   0.        ],\n",
       "        [  0.        ,   0.        ,   0.        , ...,   0.        ,\n",
       "           0.        ,   0.        ],\n",
       "        [  0.        ,   0.        ,   0.        , ...,   0.        ,\n",
       "           0.        ,   0.        ],\n",
       "        ...,\n",
       "        [  0.        ,   0.        ,   0.        , ...,   0.        ,\n",
       "           0.        ,   0.        ],\n",
       "        [  0.        ,   0.        ,   0.        , ...,   0.        ,\n",
       "           0.        ,   0.        ],\n",
       "        [  0.        ,   0.        ,   0.        , ...,   0.        ,\n",
       "           0.        ,   0.        ]],\n",
       "\n",
       "       ...,\n",
       "\n",
       "       [[183.13804626, 183.13804626, 183.13804626, ...,   0.        ,\n",
       "           0.        ,   0.        ],\n",
       "        [183.13804626, 183.13804626, 183.13804626, ...,   0.        ,\n",
       "           0.        ,   0.        ],\n",
       "        [183.13804626,   0.        ,   0.        , ...,   0.        ,\n",
       "           0.        ,   0.        ],\n",
       "        ...,\n",
       "        [  0.        ,   0.        ,   0.        , ...,   0.        ,\n",
       "           0.        ,   0.        ],\n",
       "        [  0.        ,   0.        ,   0.        , ...,   0.        ,\n",
       "           0.        ,   0.        ],\n",
       "        [  0.        ,   0.        ,   0.        , ...,   0.        ,\n",
       "           0.        ,   0.        ]],\n",
       "\n",
       "       [[183.13804626, 183.13804626, 183.13804626, ...,   0.        ,\n",
       "           0.        ,   0.        ],\n",
       "        [183.13804626, 183.13804626, 183.13804626, ...,   0.        ,\n",
       "           0.        ,   0.        ],\n",
       "        [183.13804626, 183.13804626,   0.        , ...,   0.        ,\n",
       "           0.        ,   0.        ],\n",
       "        ...,\n",
       "        [  0.        ,   0.        ,   0.        , ...,   0.        ,\n",
       "           0.        ,   0.        ],\n",
       "        [  0.        ,   0.        ,   0.        , ...,   0.        ,\n",
       "           0.        ,   0.        ],\n",
       "        [  0.        ,   0.        ,   0.        , ...,   0.        ,\n",
       "           0.        ,   0.        ]],\n",
       "\n",
       "       [[183.13804626, 183.13804626, 183.13804626, ...,   0.        ,\n",
       "           0.        ,   0.        ],\n",
       "        [  0.        , 183.13804626,   0.        , ...,   0.        ,\n",
       "           0.        ,   0.        ],\n",
       "        [183.13804626,   0.        ,   0.        , ...,   0.        ,\n",
       "           0.        ,   0.        ],\n",
       "        ...,\n",
       "        [  0.        ,   0.        ,   0.        , ...,   0.        ,\n",
       "           0.        ,   0.        ],\n",
       "        [  0.        ,   0.        ,   0.        , ...,   0.        ,\n",
       "           0.        ,   0.        ],\n",
       "        [  0.        ,   0.        ,   0.        , ...,   0.        ,\n",
       "           0.        ,   0.        ]]])"
      ]
     },
     "execution_count": 20,
     "metadata": {},
     "output_type": "execute_result"
    }
   ],
   "source": [
    "t1.get_fdata()"
   ]
  },
  {
   "cell_type": "code",
   "execution_count": 24,
   "id": "b90d77ad",
   "metadata": {},
   "outputs": [],
   "source": [
    "X = np.random.randint(0, 255, (256, 256, 256)).astype(float)"
   ]
  },
  {
   "cell_type": "code",
   "execution_count": 27,
   "id": "c99a765c",
   "metadata": {},
   "outputs": [],
   "source": [
    "nibabel.save(nibabel.Nifti1Image(X, A), \"testimage\")"
   ]
  },
  {
   "cell_type": "code",
   "execution_count": 28,
   "id": "d785b998",
   "metadata": {},
   "outputs": [],
   "source": [
    "img = nibabel.load(\"testimage.nii\")"
   ]
  },
  {
   "cell_type": "code",
   "execution_count": 29,
   "id": "e38afdaf",
   "metadata": {},
   "outputs": [
    {
     "name": "stdout",
     "output_type": "stream",
     "text": [
      "<class 'nibabel.nifti1.Nifti1Header'> object, endian='<'\n",
      "sizeof_hdr      : 348\n",
      "data_type       : b''\n",
      "db_name         : b''\n",
      "extents         : 0\n",
      "session_error   : 0\n",
      "regular         : b''\n",
      "dim_info        : 0\n",
      "dim             : [  3 256 256 256   1   1   1   1]\n",
      "intent_p1       : 0.0\n",
      "intent_p2       : 0.0\n",
      "intent_p3       : 0.0\n",
      "intent_code     : none\n",
      "datatype        : float64\n",
      "bitpix          : 64\n",
      "slice_start     : 0\n",
      "pixdim          : [1. 1. 1. 1. 1. 1. 1. 1.]\n",
      "vox_offset      : 0.0\n",
      "scl_slope       : nan\n",
      "scl_inter       : nan\n",
      "slice_end       : 0\n",
      "slice_code      : unknown\n",
      "xyzt_units      : 0\n",
      "cal_max         : 0.0\n",
      "cal_min         : 0.0\n",
      "slice_duration  : 0.0\n",
      "toffset         : 0.0\n",
      "glmax           : 0\n",
      "glmin           : 0\n",
      "descrip         : b''\n",
      "aux_file        : b''\n",
      "qform_code      : unknown\n",
      "sform_code      : aligned\n",
      "quatern_b       : 0.0\n",
      "quatern_c       : 0.0\n",
      "quatern_d       : 0.0\n",
      "qoffset_x       : 0.0\n",
      "qoffset_y       : 0.0\n",
      "qoffset_z       : 0.0\n",
      "srow_x          : [1. 0. 0. 0.]\n",
      "srow_y          : [0. 1. 0. 0.]\n",
      "srow_z          : [0. 0. 1. 0.]\n",
      "intent_name     : b''\n",
      "magic           : b'n+1'\n"
     ]
    }
   ],
   "source": [
    "print(img.header)"
   ]
  },
  {
   "cell_type": "code",
   "execution_count": null,
   "id": "5e9f38e4",
   "metadata": {},
   "outputs": [],
   "source": []
  },
  {
   "cell_type": "code",
   "execution_count": null,
   "id": "7f92df2a",
   "metadata": {},
   "outputs": [],
   "source": []
  },
  {
   "cell_type": "code",
   "execution_count": 163,
   "id": "8ca786b7",
   "metadata": {},
   "outputs": [],
   "source": [
    "p = Path()"
   ]
  },
  {
   "cell_type": "code",
   "execution_count": 168,
   "id": "7f05f050",
   "metadata": {},
   "outputs": [],
   "source": [
    "import dataclasses"
   ]
  },
  {
   "cell_type": "code",
   "execution_count": 169,
   "id": "afb12f92",
   "metadata": {},
   "outputs": [
    {
     "ename": "ValueError",
     "evalue": "mutable default <class 'list'> for field T1_patterns is not allowed: use default_factory",
     "output_type": "error",
     "traceback": [
      "\u001b[0;31m---------------------------------------------------------------------------\u001b[0m",
      "\u001b[0;31mValueError\u001b[0m                                Traceback (most recent call last)",
      "Cell \u001b[0;32mIn[169], line 1\u001b[0m\n\u001b[0;32m----> 1\u001b[0m \u001b[38;5;129;43m@dataclasses\u001b[39;49m\u001b[38;5;241;43m.\u001b[39;49m\u001b[43mdataclass\u001b[49m\n\u001b[1;32m      2\u001b[0m \u001b[38;5;28;43;01mclass\u001b[39;49;00m\u001b[43m \u001b[49m\u001b[38;5;21;43;01mDICOMSettings\u001b[39;49;00m\u001b[43m:\u001b[49m\n\u001b[1;32m      3\u001b[0m \u001b[43m    \u001b[49m\u001b[43mpaths\u001b[49m\u001b[43m:\u001b[49m\u001b[43m \u001b[49m\u001b[43mPatientDataPaths\u001b[49m\n\u001b[1;32m      4\u001b[0m \u001b[43m    \u001b[49m\u001b[43mT1_patterns\u001b[49m\u001b[43m:\u001b[49m\u001b[43m \u001b[49m\u001b[38;5;28;43mlist\u001b[39;49m\u001b[43m[\u001b[49m\u001b[38;5;28;43mstr\u001b[39;49m\u001b[43m]\u001b[49m\u001b[43m \u001b[49m\u001b[38;5;241;43m=\u001b[39;49m\u001b[43m \u001b[49m\u001b[43m[\u001b[49m\u001b[38;5;124;43m\"\u001b[39;49m\u001b[38;5;124;43mWIP PDT1_3D 08mm\u001b[39;49m\u001b[38;5;124;43m\"\u001b[39;49m\u001b[43m,\u001b[49m\u001b[43m \u001b[49m\u001b[38;5;124;43m\"\u001b[39;49m\u001b[38;5;124;43mWIP PDT1_3D 1mm\u001b[39;49m\u001b[38;5;124;43m\"\u001b[39;49m\u001b[43m]\u001b[49m\n",
      "File \u001b[0;32m~/programs/mambaforge/envs/parcrec/lib/python3.11/dataclasses.py:1221\u001b[0m, in \u001b[0;36mdataclass\u001b[0;34m(cls, init, repr, eq, order, unsafe_hash, frozen, match_args, kw_only, slots, weakref_slot)\u001b[0m\n\u001b[1;32m   1218\u001b[0m     \u001b[38;5;28;01mreturn\u001b[39;00m wrap\n\u001b[1;32m   1220\u001b[0m \u001b[38;5;66;03m# We're called as @dataclass without parens.\u001b[39;00m\n\u001b[0;32m-> 1221\u001b[0m \u001b[38;5;28;01mreturn\u001b[39;00m \u001b[43mwrap\u001b[49m\u001b[43m(\u001b[49m\u001b[38;5;28;43mcls\u001b[39;49m\u001b[43m)\u001b[49m\n",
      "File \u001b[0;32m~/programs/mambaforge/envs/parcrec/lib/python3.11/dataclasses.py:1211\u001b[0m, in \u001b[0;36mdataclass.<locals>.wrap\u001b[0;34m(cls)\u001b[0m\n\u001b[1;32m   1210\u001b[0m \u001b[38;5;28;01mdef\u001b[39;00m \u001b[38;5;21mwrap\u001b[39m(\u001b[38;5;28mcls\u001b[39m):\n\u001b[0;32m-> 1211\u001b[0m     \u001b[38;5;28;01mreturn\u001b[39;00m \u001b[43m_process_class\u001b[49m\u001b[43m(\u001b[49m\u001b[38;5;28;43mcls\u001b[39;49m\u001b[43m,\u001b[49m\u001b[43m \u001b[49m\u001b[43minit\u001b[49m\u001b[43m,\u001b[49m\u001b[43m \u001b[49m\u001b[38;5;28;43mrepr\u001b[39;49m\u001b[43m,\u001b[49m\u001b[43m \u001b[49m\u001b[43meq\u001b[49m\u001b[43m,\u001b[49m\u001b[43m \u001b[49m\u001b[43morder\u001b[49m\u001b[43m,\u001b[49m\u001b[43m \u001b[49m\u001b[43munsafe_hash\u001b[49m\u001b[43m,\u001b[49m\n\u001b[1;32m   1212\u001b[0m \u001b[43m                          \u001b[49m\u001b[43mfrozen\u001b[49m\u001b[43m,\u001b[49m\u001b[43m \u001b[49m\u001b[43mmatch_args\u001b[49m\u001b[43m,\u001b[49m\u001b[43m \u001b[49m\u001b[43mkw_only\u001b[49m\u001b[43m,\u001b[49m\u001b[43m \u001b[49m\u001b[43mslots\u001b[49m\u001b[43m,\u001b[49m\n\u001b[1;32m   1213\u001b[0m \u001b[43m                          \u001b[49m\u001b[43mweakref_slot\u001b[49m\u001b[43m)\u001b[49m\n",
      "File \u001b[0;32m~/programs/mambaforge/envs/parcrec/lib/python3.11/dataclasses.py:959\u001b[0m, in \u001b[0;36m_process_class\u001b[0;34m(cls, init, repr, eq, order, unsafe_hash, frozen, match_args, kw_only, slots, weakref_slot)\u001b[0m\n\u001b[1;32m    956\u001b[0m         kw_only \u001b[38;5;241m=\u001b[39m \u001b[38;5;28;01mTrue\u001b[39;00m\n\u001b[1;32m    957\u001b[0m     \u001b[38;5;28;01melse\u001b[39;00m:\n\u001b[1;32m    958\u001b[0m         \u001b[38;5;66;03m# Otherwise it's a field of some type.\u001b[39;00m\n\u001b[0;32m--> 959\u001b[0m         cls_fields\u001b[38;5;241m.\u001b[39mappend(\u001b[43m_get_field\u001b[49m\u001b[43m(\u001b[49m\u001b[38;5;28;43mcls\u001b[39;49m\u001b[43m,\u001b[49m\u001b[43m \u001b[49m\u001b[43mname\u001b[49m\u001b[43m,\u001b[49m\u001b[43m \u001b[49m\u001b[38;5;28;43mtype\u001b[39;49m\u001b[43m,\u001b[49m\u001b[43m \u001b[49m\u001b[43mkw_only\u001b[49m\u001b[43m)\u001b[49m)\n\u001b[1;32m    961\u001b[0m \u001b[38;5;28;01mfor\u001b[39;00m f \u001b[38;5;129;01min\u001b[39;00m cls_fields:\n\u001b[1;32m    962\u001b[0m     fields[f\u001b[38;5;241m.\u001b[39mname] \u001b[38;5;241m=\u001b[39m f\n",
      "File \u001b[0;32m~/programs/mambaforge/envs/parcrec/lib/python3.11/dataclasses.py:816\u001b[0m, in \u001b[0;36m_get_field\u001b[0;34m(cls, a_name, a_type, default_kw_only)\u001b[0m\n\u001b[1;32m    812\u001b[0m \u001b[38;5;66;03m# For real fields, disallow mutable defaults.  Use unhashable as a proxy\u001b[39;00m\n\u001b[1;32m    813\u001b[0m \u001b[38;5;66;03m# indicator for mutability.  Read the __hash__ attribute from the class,\u001b[39;00m\n\u001b[1;32m    814\u001b[0m \u001b[38;5;66;03m# not the instance.\u001b[39;00m\n\u001b[1;32m    815\u001b[0m \u001b[38;5;28;01mif\u001b[39;00m f\u001b[38;5;241m.\u001b[39m_field_type \u001b[38;5;129;01mis\u001b[39;00m _FIELD \u001b[38;5;129;01mand\u001b[39;00m f\u001b[38;5;241m.\u001b[39mdefault\u001b[38;5;241m.\u001b[39m\u001b[38;5;18m__class__\u001b[39m\u001b[38;5;241m.\u001b[39m\u001b[38;5;21m__hash__\u001b[39m \u001b[38;5;129;01mis\u001b[39;00m \u001b[38;5;28;01mNone\u001b[39;00m:\n\u001b[0;32m--> 816\u001b[0m     \u001b[38;5;28;01mraise\u001b[39;00m \u001b[38;5;167;01mValueError\u001b[39;00m(\u001b[38;5;124mf\u001b[39m\u001b[38;5;124m'\u001b[39m\u001b[38;5;124mmutable default \u001b[39m\u001b[38;5;132;01m{\u001b[39;00m\u001b[38;5;28mtype\u001b[39m(f\u001b[38;5;241m.\u001b[39mdefault)\u001b[38;5;132;01m}\u001b[39;00m\u001b[38;5;124m for field \u001b[39m\u001b[38;5;124m'\u001b[39m\n\u001b[1;32m    817\u001b[0m                      \u001b[38;5;124mf\u001b[39m\u001b[38;5;124m'\u001b[39m\u001b[38;5;132;01m{\u001b[39;00mf\u001b[38;5;241m.\u001b[39mname\u001b[38;5;132;01m}\u001b[39;00m\u001b[38;5;124m is not allowed: use default_factory\u001b[39m\u001b[38;5;124m'\u001b[39m)\n\u001b[1;32m    819\u001b[0m \u001b[38;5;28;01mreturn\u001b[39;00m f\n",
      "\u001b[0;31mValueError\u001b[0m: mutable default <class 'list'> for field T1_patterns is not allowed: use default_factory"
     ]
    }
   ],
   "source": [
    "\n",
    "@dataclasses.dataclass\n",
    "class DICOMSettings:\n",
    "    paths: PatientDataPaths\n",
    "    T1_patterns: list[str] = [\"WIP PDT1_3D 08mm\", \"WIP PDT1_3D 1mm\"]\n",
    "    T2_patterns: list[str] = [\"WIP 07mmTE565 3D TSE\", \"WIP T2W 3D TSE TE565\"]\n",
    "    LL_patterns: list[str] = [\n",
    "        \"WIP DelRec - LookLocker 1mm 3000 HR 21\",\n",
    "        \"WIP DelRec - WIP 2beatpause1mm 3000 HR 21\",\n",
    "    ]"
   ]
  },
  {
   "cell_type": "code",
   "execution_count": 166,
   "id": "c7a7c0e3",
   "metadata": {},
   "outputs": [
    {
     "data": {
      "text/plain": [
       "PosixPath('DATA')"
      ]
     },
     "execution_count": 166,
     "metadata": {},
     "output_type": "execute_result"
    }
   ],
   "source": [
    "sorted(p.glob(\"DATA\"))[-1]"
   ]
  }
 ],
 "metadata": {
  "kernelspec": {
   "display_name": "Python 3 (ipykernel)",
   "language": "python",
   "name": "python3"
  },
  "language_info": {
   "codemirror_mode": {
    "name": "ipython",
    "version": 3
   },
   "file_extension": ".py",
   "mimetype": "text/x-python",
   "name": "python",
   "nbconvert_exporter": "python",
   "pygments_lexer": "ipython3",
   "version": "3.11.0"
  }
 },
 "nbformat": 4,
 "nbformat_minor": 5
}
