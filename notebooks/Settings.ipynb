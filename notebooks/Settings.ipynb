{
 "cells": [
  {
   "cell_type": "code",
   "execution_count": 2,
   "id": "3c6dd6df",
   "metadata": {},
   "outputs": [],
   "source": [
    "from pydantic import BaseModel, BaseSettings\n",
    "from pathlib import Path"
   ]
  },
  {
   "cell_type": "code",
   "execution_count": 41,
   "id": "f3cd08c4",
   "metadata": {},
   "outputs": [],
   "source": [
    "class PatientDataSettings(BaseModel):\n",
    "    t1raw: Path\n",
    "    resampled: Path\n",
    "    registered: Path\n",
    "    lta: Path\n",
    "    looklocker: Path\n",
    "    t2: Path\n",
    "    dti: Path\n",
    "    concentrations: Path\n",
    "\n",
    "\n",
    "def patient_settings(root: Path, patientid: str, **kwargs):\n",
    "    path = Path(root) / patientid\n",
    "    return PatientDataSettings(\n",
    "        t1raw = path / \"T1\",\n",
    "        resampled = path / \"RESAMPLED\",\n",
    "        registered = path / \"NORMALIZED\",\n",
    "        lta = path / \"LTA\",\n",
    "        looklocker = path / \"LOOKLOCKER\",\n",
    "        t2 = path / \"T2\",\n",
    "        dti = path / \"DTI\",\n",
    "        concentrations = path /\"CONCENTRATIONS\"\n",
    "    )\n",
    "\n",
    "\n",
    "class Settings(BaseSettings):\n",
    "    rawdata:"
   ]
  },
  {
   "cell_type": "code",
   "execution_count": 44,
   "id": "ef01d298",
   "metadata": {},
   "outputs": [],
   "source": [
    "import re"
   ]
  },
  {
   "cell_type": "code",
   "execution_count": 75,
   "id": "6ce63805",
   "metadata": {},
   "outputs": [],
   "source": [
    "def study_iterator(patient_dir: Path) -> list[Path]:\n",
    "    return [\n",
    "        x\n",
    "        for date in sorted(filter(is_datedir, patient_dir.iterdir()))\n",
    "        for x in sorted(date.iterdir())\n",
    "    ]\n",
    "\n",
    "def is_datedir(dirpath: Path) -> bool:\n",
    "    match = re.search(\"[0-9]{4}_[0-9]{2}_[0-9]{2}\", dirpath.stem)\n",
    "    if match is None:\n",
    "        return False\n",
    "    return True\n",
    "\n"
   ]
  },
  {
   "cell_type": "code",
   "execution_count": null,
   "id": "ed61a42c",
   "metadata": {},
   "outputs": [],
   "source": [
    "for file in st"
   ]
  },
  {
   "cell_type": "code",
   "execution_count": null,
   "id": "f78ec373",
   "metadata": {},
   "outputs": [],
   "source": [
    "studydir.iterdir()"
   ]
  },
  {
   "cell_type": "code",
   "execution_count": 96,
   "id": "287bec14",
   "metadata": {},
   "outputs": [
    {
     "data": {
      "text/plain": [
       "[PosixPath('../GRIP/PAT_001/2023_01_26/S__114833/DICOM_3_3_WIP DelRec - WIP 2beatpause1mm 3000 HR 21'),\n",
       " PosixPath('../GRIP/PAT_001/2023_01_26/S__114833/DICOM_6_3_WIP DelRec - WIP 2beatpause1mm 3000 HR 21')]"
      ]
     },
     "execution_count": 96,
     "metadata": {},
     "output_type": "execute_result"
    }
   ],
   "source": [
    "[x for x in sorted(studydir.iterdir()) if re.match(r\"(DICOM_\\d+_3[_ ])(.*(LookLocker|2beatpause).*)\", x.name)]"
   ]
  },
  {
   "cell_type": "code",
   "execution_count": 97,
   "id": "46092523",
   "metadata": {},
   "outputs": [],
   "source": [
    "pattern = r\"(DICOM_\\d+_3[_ ])(.*(LookLocker|2beatpause).*)\""
   ]
  },
  {
   "cell_type": "code",
   "execution_count": 99,
   "id": "eb0a64be",
   "metadata": {},
   "outputs": [
    {
     "data": {
      "text/plain": [
       "[PosixPath('../GRIP/PAT_001/2023_01_26/S__114833/DICOM_3_3_WIP DelRec - WIP 2beatpause1mm 3000 HR 21'),\n",
       " PosixPath('../GRIP/PAT_001/2023_01_26/S__114833/DICOM_6_3_WIP DelRec - WIP 2beatpause1mm 3000 HR 21')]"
      ]
     },
     "execution_count": 99,
     "metadata": {},
     "output_type": "execute_result"
    }
   ],
   "source": [
    "list(filter(lambda x: re.match(pattern, x.name), sorted(studydir.iterdir())))"
   ]
  },
  {
   "cell_type": "code",
   "execution_count": 101,
   "id": "ebec91ee",
   "metadata": {
    "scrolled": true
   },
   "outputs": [
    {
     "name": "stdout",
     "output_type": "stream",
     "text": [
      "../GRIP/PAT_001/2023_01_23/S__112909/DICOM_3_3_WIP DelRec - WIP 2beatpause1mm 3000 HR 21\n",
      "../GRIP/PAT_001/2023_01_23/S__113593/DICOM_6_3_WIP DelRec - WIP 2beatpause1mm 3000 HR 21\n",
      "../GRIP/PAT_001/2023_01_24/S__113632/DICOM_4_3_WIP DelRec - WIP 2beatpause1mm 3000 HR 21\n",
      "../GRIP/PAT_001/2023_01_25/S__113730/DICOM_3_3_WIP DelRec - WIP 2beatpause1mm 3000 HR 21\n",
      "../GRIP/PAT_001/2023_01_25/S__113730/DICOM_6_3_WIP DelRec - WIP 2beatpause1mm 3000 HR 21\n",
      "../GRIP/PAT_001/2023_01_26/S__114833/DICOM_3_3_WIP DelRec - WIP 2beatpause1mm 3000 HR 21\n",
      "../GRIP/PAT_001/2023_01_26/S__114833/DICOM_6_3_WIP DelRec - WIP 2beatpause1mm 3000 HR 21\n"
     ]
    }
   ],
   "source": [
    "datapath = Path(\"../GRIP/PAT_001/\")\n",
    "\n",
    "\n",
    "for studydir in study_iterator(datapath):\n",
    "    for file in studydir.iterdir():\n",
    "        match = re.match(r\"(DICOM_\\d+_3[_ ])(.*(LookLocker|2beatpause))\", file.name)\n",
    "        if match:\n",
    "            print(file)"
   ]
  },
  {
   "cell_type": "code",
   "execution_count": 43,
   "id": "268d9032",
   "metadata": {},
   "outputs": [
    {
     "data": {
      "text/plain": [
       "PatientDataSettings(t1raw=PosixPath('../DATA/PAT_002/T1'), resampled=PosixPath('../DATA/PAT_002/RESAMPLED'), registered=PosixPath('../DATA/PAT_002/NORMALIZED'), lta=PosixPath('../DATA/PAT_002/LTA'), looklocker=PosixPath('../DATA/PAT_002/LOOKLOCKER'), t2=PosixPath('../DATA/PAT_002/T2'), dti=PosixPath('../DATA/PAT_002/DTI'), concentrations=PosixPath('../DATA/PAT_002/CONCENTRATIONS'))"
      ]
     },
     "execution_count": 43,
     "metadata": {},
     "output_type": "execute_result"
    }
   ],
   "source": [
    "patient_settings(\"../DATA\", \"PAT_002\")"
   ]
  },
  {
   "cell_type": "code",
   "execution_count": 30,
   "id": "0e966b1e",
   "metadata": {},
   "outputs": [],
   "source": [
    "class PatientDataTemplate(BaseModel):\n",
    "    t1raw: str = \"T1\"\n",
    "    resampled: str = \"RESAMPLED\"\n",
    "    registered: str = \"REGISTERED\"\n",
    "    normalized: str = \"NORMALIZED\"\n",
    "    lta: str = \"LTA\"\n",
    "    looklocker: str = \"LOOKLOCKER\"\n",
    "    t2: str = \"T2\"\n",
    "    dti: str = \"DTI\"\n",
    "    concentrations: str = \"CONCENTRATIONS\"\n",
    "    fenics: str = \"FENICS\""
   ]
  },
  {
   "cell_type": "code",
   "execution_count": 32,
   "id": "eb6c3490",
   "metadata": {},
   "outputs": [
    {
     "data": {
      "text/plain": [
       "{'t1raw': 'T1',\n",
       " 'resampled': 'RESAMPLED',\n",
       " 'registered': 'REGISTERED',\n",
       " 'normalized': 'NORMALIZED',\n",
       " 'lta': 'LTA',\n",
       " 'looklocker': 'LOOKLOCKER',\n",
       " 't2': 'T2',\n",
       " 'dti': 'DTI',\n",
       " 'concentrations': 'CONCENTRATIONS',\n",
       " 'fenics': 'FENICS'}"
      ]
     },
     "execution_count": 32,
     "metadata": {},
     "output_type": "execute_result"
    }
   ],
   "source": [
    "PatientDataTemplate().dict()"
   ]
  },
  {
   "cell_type": "code",
   "execution_count": 31,
   "id": "569cdfee",
   "metadata": {},
   "outputs": [
    {
     "data": {
      "text/plain": [
       "{'t1raw': 'T1',\n",
       " 'resampled': 'RESAMPLED',\n",
       " 'registered': 'REGISTERED',\n",
       " 'normalized': 'NORMALIZED',\n",
       " 'lta': 'LTA',\n",
       " 'looklocker': 'LOOKLOCKER',\n",
       " 't2': 'T2',\n",
       " 'dti': 'DTI',\n",
       " 'concentrations': 'CONCENTRATIONS',\n",
       " 'fenics': 'FENICS'}"
      ]
     },
     "execution_count": 31,
     "metadata": {},
     "output_type": "execute_result"
    }
   ],
   "source": [
    "dict(PatientDataTemplate())"
   ]
  },
  {
   "cell_type": "code",
   "execution_count": 22,
   "id": "d6588c21",
   "metadata": {},
   "outputs": [],
   "source": [
    "class PatientDataPaths(BaseModel):\n",
    "    root: Path\n",
    "    preregistered: Path\n",
    "    registered: Path\n",
    "    resampled: Path\n",
    "    normalized: Path\n",
    "    lta: Path\n",
    "    looklocker: Path\n",
    "    t2: Path\n",
    "    dti: Path\n",
    "    concentrations: Path\n",
    "    fenics: Path"
   ]
  },
  {
   "cell_type": "code",
   "execution_count": 23,
   "id": "a4589cd6",
   "metadata": {},
   "outputs": [
    {
     "ename": "ValidationError",
     "evalue": "11 validation errors for PatientDataPaths\nroot\n  field required (type=value_error.missing)\npreregistered\n  field required (type=value_error.missing)\nregistered\n  field required (type=value_error.missing)\nresampled\n  field required (type=value_error.missing)\nnormalized\n  field required (type=value_error.missing)\nlta\n  field required (type=value_error.missing)\nlooklocker\n  field required (type=value_error.missing)\nt2\n  field required (type=value_error.missing)\ndti\n  field required (type=value_error.missing)\nconcentrations\n  field required (type=value_error.missing)\nfenics\n  field required (type=value_error.missing)",
     "output_type": "error",
     "traceback": [
      "\u001b[0;31m---------------------------------------------------------------------------\u001b[0m",
      "\u001b[0;31mValidationError\u001b[0m                           Traceback (most recent call last)",
      "Cell \u001b[0;32mIn[23], line 1\u001b[0m\n\u001b[0;32m----> 1\u001b[0m \u001b[43mPatientDataPaths\u001b[49m\u001b[43m(\u001b[49m\u001b[43m)\u001b[49m\u001b[38;5;241m.\u001b[39mdict()\n",
      "File \u001b[0;32m~/programs/mambaforge/envs/parcrec/lib/python3.11/site-packages/pydantic/main.py:341\u001b[0m, in \u001b[0;36mpydantic.main.BaseModel.__init__\u001b[0;34m()\u001b[0m\n",
      "\u001b[0;31mValidationError\u001b[0m: 11 validation errors for PatientDataPaths\nroot\n  field required (type=value_error.missing)\npreregistered\n  field required (type=value_error.missing)\nregistered\n  field required (type=value_error.missing)\nresampled\n  field required (type=value_error.missing)\nnormalized\n  field required (type=value_error.missing)\nlta\n  field required (type=value_error.missing)\nlooklocker\n  field required (type=value_error.missing)\nt2\n  field required (type=value_error.missing)\ndti\n  field required (type=value_error.missing)\nconcentrations\n  field required (type=value_error.missing)\nfenics\n  field required (type=value_error.missing)"
     ]
    }
   ],
   "source": [
    "PatientDataPaths().dict()"
   ]
  },
  {
   "cell_type": "code",
   "execution_count": 33,
   "id": "09a05f9b",
   "metadata": {},
   "outputs": [],
   "source": [
    "PATIENT_DEFAULT_PATHS = {\n",
    "    't1raw': 'T1',\n",
    "    'resampled': 'RESAMPLED',\n",
    "    'registered': 'REGISTERED',\n",
    "    'normalized': 'NORMALIZED',\n",
    "    'lta': 'LTA',\n",
    "    'looklocker': 'LOOKLOCKER',\n",
    "    't2': 'T2',\n",
    "    'dti': 'DTI',\n",
    "    'concentrations': 'CONCENTRATIONS',\n",
    "    'fenics': 'FENICS'\n",
    "}"
   ]
  },
  {
   "cell_type": "code",
   "execution_count": 36,
   "id": "0decfb49",
   "metadata": {},
   "outputs": [
    {
     "data": {
      "text/plain": [
       "{'t1raw': 'T1', 'resampled': 'RESAMPLED', 'registered': 'REGISTERED'}"
      ]
     },
     "execution_count": 36,
     "metadata": {},
     "output_type": "execute_result"
    }
   ],
   "source": [
    "dict(\n",
    "    t1raw=\"T1\",\n",
    "    resampled=\"RESAMPLED\",\n",
    "    registered=\"REGISTERED\",\n",
    ")"
   ]
  },
  {
   "cell_type": "code",
   "execution_count": null,
   "id": "f8122ff8",
   "metadata": {},
   "outputs": [],
   "source": [
    "def default_patient_paths(\n",
    ")"
   ]
  },
  {
   "cell_type": "code",
   "execution_count": null,
   "id": "a0714fbf",
   "metadata": {},
   "outputs": [],
   "source": [
    "def default_patient_paths(root: Path, patientid):\n",
    "    dict(\n",
    "        \n",
    "    )"
   ]
  },
  {
   "cell_type": "code",
   "execution_count": 5,
   "id": "ba58a99b",
   "metadata": {},
   "outputs": [],
   "source": [
    "dict(\n",
    "    a=1,\n",
    "    b=2\n",
    ")\n",
    "\n",
    "class Foo(BaseModel):\n",
    "    a: int = 1\n",
    "    b: int = 2\n",
    "    "
   ]
  },
  {
   "cell_type": "code",
   "execution_count": null,
   "id": "d4900b38",
   "metadata": {},
   "outputs": [],
   "source": []
  },
  {
   "cell_type": "code",
   "execution_count": 15,
   "id": "b7ae1a74",
   "metadata": {},
   "outputs": [
    {
     "ename": "TypeError",
     "evalue": "dict() got multiple values for keyword argument 'b'",
     "output_type": "error",
     "traceback": [
      "\u001b[0;31m---------------------------------------------------------------------------\u001b[0m",
      "\u001b[0;31mTypeError\u001b[0m                                 Traceback (most recent call last)",
      "Cell \u001b[0;32mIn[15], line 1\u001b[0m\n\u001b[0;32m----> 1\u001b[0m \u001b[38;5;28mdict\u001b[39m(\n\u001b[1;32m      2\u001b[0m         a\u001b[38;5;241m=\u001b[39m\u001b[38;5;241m1\u001b[39m,\n\u001b[1;32m      3\u001b[0m         b\u001b[38;5;241m=\u001b[39m\u001b[38;5;241m3\u001b[39m,\n\u001b[1;32m      4\u001b[0m         \u001b[38;5;241m*\u001b[39m\u001b[38;5;241m*\u001b[39m\u001b[38;5;28mdict\u001b[39m(b\u001b[38;5;241m=\u001b[39m\u001b[38;5;241m1\u001b[39m)\n\u001b[1;32m      5\u001b[0m     )\n",
      "\u001b[0;31mTypeError\u001b[0m: dict() got multiple values for keyword argument 'b'"
     ]
    }
   ],
   "source": [
    "dict(\n",
    "        a=1,\n",
    "        b=3,\n",
    "        **dict(b=1)\n",
    "    )"
   ]
  },
  {
   "cell_type": "code",
   "execution_count": 14,
   "id": "294d1b74",
   "metadata": {},
   "outputs": [
    {
     "ename": "TypeError",
     "evalue": "dict() got multiple values for keyword argument 'b'",
     "output_type": "error",
     "traceback": [
      "\u001b[0;31m---------------------------------------------------------------------------\u001b[0m",
      "\u001b[0;31mTypeError\u001b[0m                                 Traceback (most recent call last)",
      "Cell \u001b[0;32mIn[14], line 1\u001b[0m\n\u001b[0;32m----> 1\u001b[0m Foo(\u001b[38;5;241m*\u001b[39m\u001b[38;5;241m*\u001b[39m\u001b[38;5;28mdict\u001b[39m(\n\u001b[1;32m      2\u001b[0m         a\u001b[38;5;241m=\u001b[39m\u001b[38;5;241m1\u001b[39m,\n\u001b[1;32m      3\u001b[0m         b\u001b[38;5;241m=\u001b[39m\u001b[38;5;241m3\u001b[39m,\n\u001b[1;32m      4\u001b[0m         \u001b[38;5;241m*\u001b[39m\u001b[38;5;241m*\u001b[39m\u001b[38;5;28mdict\u001b[39m(b\u001b[38;5;241m=\u001b[39m\u001b[38;5;241m1\u001b[39m)\n\u001b[1;32m      5\u001b[0m     )\n\u001b[1;32m      6\u001b[0m )\n",
      "\u001b[0;31mTypeError\u001b[0m: dict() got multiple values for keyword argument 'b'"
     ]
    }
   ],
   "source": [
    "Foo(**dict(\n",
    "        a=1,\n",
    "        b=3,\n",
    "        **dict(b=1)\n",
    "    )\n",
    ")"
   ]
  },
  {
   "cell_type": "code",
   "execution_count": null,
   "id": "c606e79e",
   "metadata": {},
   "outputs": [],
   "source": [
    "def default_patient_paths(root: Path, patientid: str, **kwargs):\n",
    "    "
   ]
  },
  {
   "cell_type": "code",
   "execution_count": null,
   "id": "5588487b",
   "metadata": {},
   "outputs": [],
   "source": [
    "DATA"
   ]
  }
 ],
 "metadata": {
  "kernelspec": {
   "display_name": "Python 3 (ipykernel)",
   "language": "python",
   "name": "python3"
  },
  "language_info": {
   "codemirror_mode": {
    "name": "ipython",
    "version": 3
   },
   "file_extension": ".py",
   "mimetype": "text/x-python",
   "name": "python",
   "nbconvert_exporter": "python",
   "pygments_lexer": "ipython3",
   "version": "3.11.0"
  }
 },
 "nbformat": 4,
 "nbformat_minor": 5
}
