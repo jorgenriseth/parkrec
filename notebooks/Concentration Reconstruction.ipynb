{
 "cells": [
  {
   "cell_type": "code",
   "execution_count": 1,
   "id": "dceb27b0",
   "metadata": {},
   "outputs": [],
   "source": [
    "%load_ext autoreload\n",
    "%autoreload 2"
   ]
  },
  {
   "cell_type": "code",
   "execution_count": 2,
   "id": "806a24af",
   "metadata": {},
   "outputs": [],
   "source": [
    "from pathlib import Path\n",
    "from typing import TypeAlias\n",
    "\n",
    "import numpy as np\n",
    "import nibabel\n",
    "import matplotlib.pyplot as plt"
   ]
  },
  {
   "cell_type": "code",
   "execution_count": 3,
   "id": "8aa29fae",
   "metadata": {},
   "outputs": [
    {
     "ename": "NameError",
     "evalue": "name 'parenchyma_mask' is not defined",
     "output_type": "error",
     "traceback": [
      "\u001b[0;31m---------------------------------------------------------------------------\u001b[0m",
      "\u001b[0;31mNameError\u001b[0m                                 Traceback (most recent call last)",
      "Cell \u001b[0;32mIn[3], line 2\u001b[0m\n\u001b[1;32m      1\u001b[0m subject_dir \u001b[38;5;241m=\u001b[39m Path(\u001b[38;5;124m\"\u001b[39m\u001b[38;5;124mFREESURFER/PAT_001/\u001b[39m\u001b[38;5;124m\"\u001b[39m)\n\u001b[0;32m----> 2\u001b[0m \u001b[43mparenchyma_mask\u001b[49m(Path(\u001b[38;5;124m\"\u001b[39m\u001b[38;5;124mFREESURFER/PAT_001/\u001b[39m\u001b[38;5;124m\"\u001b[39m))\n",
      "\u001b[0;31mNameError\u001b[0m: name 'parenchyma_mask' is not defined"
     ]
    }
   ],
   "source": [
    "subject_dir = Path(\"FREESURFER/PAT_001/\")\n",
    "parenchyma_mask(Path(\"FREESURFER/PAT_001/\"))"
   ]
  },
  {
   "cell_type": "code",
   "execution_count": 4,
   "id": "4e041c08",
   "metadata": {},
   "outputs": [
    {
     "data": {
      "text/plain": [
       "PosixPath('FREESURFER/PAT_001/mri/parenchyma_mask.mgz')"
      ]
     },
     "execution_count": 4,
     "metadata": {},
     "output_type": "execute_result"
    }
   ],
   "source": [
    "CSF_LABELS = [4, 5, 14, 15, 24, 43, 44, 72, 213, 221]\n",
    "\n",
    "NiftiImage: TypeAlias = nibabel.nifti1.Nifti1Image\n",
    "def create_parenchyma_mask(aseg_file: Path) -> NiftiImage:\n",
    "    aseg = nibabel.load(aseg_file)\n",
    "    aseg_data = aseg.get_fdata().astype(int)\n",
    "\n",
    "    csf_mask = np.zeros(aseg_data.shape, dtype=bool)\n",
    "    for csf_label in CSF_LABELS:\n",
    "        csf_mask[(aseg_data == csf_label)] = True\n",
    "    brain_mask = (aseg_data > 0) * (~csf_mask)\n",
    "    return nibabel.Nifti1Image(brain_mask.astype(float), aseg.affine)\n",
    "\n",
    "\n",
    "def parenchyma_mask(subject_dir: Path) -> NiftiImage:\n",
    "    output_dir = subject_dir / \"mri\"\n",
    "    output_file = output_dir / \"parenchyma_mask.mgz\"\n",
    "    aseg_file = subject_dir / \"mri\" / \"aseg.mgz\"\n",
    "    image = create_parenchyma_mask(aseg_file)\n",
    "    nibabel.save(image, output_file)\n",
    "    return output_file\n",
    "\n",
    "\n",
    "def syntethic_t1_constant(t1: float, aseg_file: Path) -> NiftiImage:\n",
    "    mask = create_parenchyma_mask(aseg_file)\n",
    "    \n",
    "    return \n",
    "\n",
    "\n",
    "subject_dir = Path(\"FREESURFER/PAT_001/\")\n",
    "parenchyma_mask(Path(\"FREESURFER/PAT_001/\"))"
   ]
  },
  {
   "cell_type": "code",
   "execution_count": 5,
   "id": "9145ee92",
   "metadata": {},
   "outputs": [],
   "source": [
    "# T1-map thresholds, everything else is considered noise.\n",
    "TMIN = 0.2\n",
    "TMAX = 4.2\n",
    "B = 1.48087682\n",
    "RELAXIVITY_CONSTANT = 3.2\n",
    "\n",
    "\n",
    "def signal_to_t1(St: np.ndarray, S0: np.ndarray, T10: np.ndarray, b: float) -> np.ndarray:\n",
    "#     return T10 - np.log(np.maximum(St, S0) / S0) / b\n",
    "    return T10 - np.log(St / S0) / b\n",
    "\n",
    "\n",
    "\n",
    "def t1_to_concentration(T1: np.ndarray, T10: np.ndarray, r: float) -> np.ndarray:\n",
    "    return 1.0 / r * (1.0 / T1 - 1.0 / T10)\n",
    "\n",
    "\n",
    "def signal_to_consentration(St: np.ndarray, S0: np.ndarray, T10: np.ndarray,\n",
    "                           r: float, b: float) -> np.ndarray:\n",
    "    T1 = signal_to_t1(St, S0, T10, b)\n",
    "#     Thresholding processing. \n",
    "    T1 = np.where(T1 > TMIN, T1, TMIN)\n",
    "    T1 = np.where(T1 < TMAX, T1, TMAX)\n",
    "    return t1_to_concentration(T1, T10, r)"
   ]
  },
  {
   "cell_type": "code",
   "execution_count": null,
   "id": "086c4187",
   "metadata": {
    "scrolled": false
   },
   "outputs": [],
   "source": [
    "input_dir = subject_dir / \"NORMALIZED\"\n",
    "input_images = sorted(input_dir.iterdir())\n",
    "\n",
    "output_dir = subject_dir / \"CONCS_s\"\n",
    "output_dir.mkdir(exist_ok=True)\n",
    "\n",
    "\n",
    "# Generate fake T1-map\n",
    "mask = create_parenchyma_mask(subject_dir / \"mri/aseg.mgz\").get_fdata().astype(bool)\n",
    "t1map = 1.0 * mask\n",
    "\n",
    "\n",
    "# Process baseline.\n",
    "image = nibabel.load(input_images[0])\n",
    "base_intensity = image.get_fdata()\n",
    "base_mask = (mask > 0) * (base_intensity > 0)\n",
    "base_intensity *= base_mask\n",
    "base_transform = image.affine\n",
    "\n",
    "\n",
    "for image_path in input_images[1:]:\n",
    "    image = nibabel.load(image_path)\n",
    "    St = image.get_fdata() * base_mask\n",
    "    assert np.allclose(base_transform, image.affine), \"Registering not good enough.\"\n",
    "    \n",
    "    concentration = np.zeros_like(St)\n",
    "    concentration[base_mask] = signal_to_consentration(St[base_mask], base_intensity[base_mask], t1map[base_mask], r=RELAXIVITY_CONSTANT, b=B)\n",
    "    concentration_image = nibabel.Nifti1Image(concentration, base_transform)\n",
    "    \n",
    "    nibabel.save(concentration_image, output_dir / image_path.name)\n",
    "    print(concentration.min(), concentration.max())\n",
    "    plt.imshow(concentration[100])\n",
    "    plt.colorbar()\n",
    "    plt.show()"
   ]
  },
  {
   "cell_type": "markdown",
   "id": "efc79a2d",
   "metadata": {},
   "source": [
    "### Some Stats"
   ]
  },
  {
   "cell_type": "code",
   "execution_count": null,
   "id": "8046536f",
   "metadata": {},
   "outputs": [],
   "source": [
    "from datetime import datetime\n",
    "\n",
    "start_time = datetime.strptime(input_images[0].stem, \"%Y%m%d_%H%M%S\")\n",
    "\n",
    "\n",
    "\n",
    "mass = [0.0]\n",
    "mean = [0.0]\n",
    "median = [0.0]\n",
    "times = [start_time]\n",
    "for image_path in sorted(output_dir.iterdir()):\n",
    "    if \"template\" in image_path.name:\n",
    "        continue\n",
    "        \n",
    "    image = nibabel.load(image_path)\n",
    "    image_data = image.get_fdata()\n",
    "    \n",
    "    total_mass = image_data.sum() * (1e-3)**2\n",
    "    mean_concentration = image_data[image_data > 0.0].mean()\n",
    "    median_conentration = np.median(image_data[image_data > 0.0])\n",
    "    mass.append(total_mass)\n",
    "    mean.append(mean_concentration)\n",
    "    median.append(median_conentration)\n",
    "    \n",
    "    time = datetime.strptime(image_path.stem, \"%Y%m%d_%H%M%S\")\n",
    "    print(time, total_mass)\n",
    "    times.append(datetime.strptime(image_path.stem, \"%Y%m%d_%H%M%S\"))"
   ]
  },
  {
   "cell_type": "code",
   "execution_count": null,
   "id": "d318582a",
   "metadata": {},
   "outputs": [],
   "source": [
    "plt.plot(times, mass, \"o-\", label=\"mass (mmol)\")\n",
    "plt.plot(times, mean, \"o-\", label=\"mean (mM)\")\n",
    "plt.plot(times, median, \"o-\", label=\"median (mM)\")\n",
    "\n",
    "plt.legend()\n",
    "plt.show()"
   ]
  },
  {
   "cell_type": "code",
   "execution_count": null,
   "id": "bbdc8107",
   "metadata": {},
   "outputs": [],
   "source": []
  }
 ],
 "metadata": {
  "kernelspec": {
   "display_name": "Python 3 (ipykernel)",
   "language": "python",
   "name": "python3"
  },
  "language_info": {
   "codemirror_mode": {
    "name": "ipython",
    "version": 3
   },
   "file_extension": ".py",
   "mimetype": "text/x-python",
   "name": "python",
   "nbconvert_exporter": "python",
   "pygments_lexer": "ipython3",
   "version": "3.11.0"
  }
 },
 "nbformat": 4,
 "nbformat_minor": 5
}
