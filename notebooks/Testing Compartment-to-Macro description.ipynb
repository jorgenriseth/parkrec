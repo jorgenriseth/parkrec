{
 "cells": [
  {
   "cell_type": "code",
   "execution_count": 1,
   "id": "8ae0b3f1",
   "metadata": {},
   "outputs": [],
   "source": [
    "%load_ext autoreload\n",
    "%autoreload 2"
   ]
  },
  {
   "cell_type": "code",
   "execution_count": 2,
   "id": "cb66a092",
   "metadata": {},
   "outputs": [],
   "source": [
    "import dolfin as df"
   ]
  },
  {
   "cell_type": "code",
   "execution_count": 3,
   "id": "31e4eb85",
   "metadata": {},
   "outputs": [],
   "source": [
    "def delete_dataset(store, dataset_name):\n",
    "    \"\"\" Should be used with care, especially when considering MPI.\"\"\"\n",
    "    import h5py\n",
    "    if store.hdf.has_dataset(dataset_name):\n",
    "        with h5py.File(store.filepath, 'a') as f:\n",
    "            print(\"Deleting dataset\", dataset_name, \"from file\", store.filepath)\n",
    "            del f[dataset_name]"
   ]
  },
  {
   "cell_type": "code",
   "execution_count": 10,
   "id": "cab5b790",
   "metadata": {},
   "outputs": [],
   "source": [
    "from pantarei.fenicsstorage import FenicsStorage\n",
    "from ..multidiffusion_model import get_default_coefficients\n",
    "\n",
    "\n",
    "phi = [0.14, 0.05]\n",
    "phi_tot = sum(phi)\n",
    "if __name__ == \"__main__\":\n",
    "    compartments = [\"ecs\", \"pvs\"]\n",
    "    data_file = \"../DATA/PAT_002/FENICS/cdata_32.hdf\"\n",
    "    storage = FenicsStorage(data_file, \"a\")\n",
    "    delete_dataset(storage, \"/test\")\n",
    "    timevec = storage.read_timevector(\"multidiffusion\")\n",
    "    u = storage.read_function(\"multidiffusion\", idx=0)\n",
    "#     el = storage.read_element(\"cdata\")\n",
    "#     domain = storage.read_domain()\n",
    "\n",
    "#     W = df.FunctionSpace(domain, el)\n",
    "    c = df.Function(u.function_space().sub(0).collapse())\n",
    "    for idx, ti in enumerate(timevec):\n",
    "        u = storage.read_checkpoint(u, \"multidiffusion\", idx=idx)\n",
    "        c.vector()[:] = sum([phi[j] * uj.vector() for j, uj in enumerate(u.split(deepcopy=True))])\n",
    "\n",
    "        storage.write_checkpoint(c, \"/test\", ti)\n",
    "\n",
    "storage.close()"
   ]
  },
  {
   "cell_type": "code",
   "execution_count": 25,
   "id": "c318a7cd",
   "metadata": {},
   "outputs": [],
   "source": [
    "storage = FenicsStorage(data_file, \"a\")\n",
    "delete_dataset(storage, \"/multidiffusion_total\")\n",
    "storage.close()"
   ]
  },
  {
   "cell_type": "code",
   "execution_count": 11,
   "id": "1c308335",
   "metadata": {},
   "outputs": [],
   "source": [
    "file = FenicsStorage(storage.filepath, \"r\")\n",
    "file.to_xdmf(\"test\", \"test\")\n",
    "file.close()"
   ]
  },
  {
   "cell_type": "code",
   "execution_count": 15,
   "id": "ebc3b069",
   "metadata": {},
   "outputs": [
    {
     "data": {
      "text/plain": [
       "183136"
      ]
     },
     "execution_count": 15,
     "metadata": {},
     "output_type": "execute_result"
    }
   ],
   "source": [
    "c.vector().size()"
   ]
  },
  {
   "cell_type": "code",
   "execution_count": 18,
   "id": "b0228054",
   "metadata": {},
   "outputs": [],
   "source": [
    "vec = c.vector()"
   ]
  },
  {
   "cell_type": "code",
   "execution_count": null,
   "id": "3187ac8c",
   "metadata": {},
   "outputs": [],
   "source": [
    "st"
   ]
  },
  {
   "cell_type": "code",
   "execution_count": 22,
   "id": "99c01459",
   "metadata": {},
   "outputs": [
    {
     "data": {
      "text/plain": [
       "array([0.        , 0.        , 0.05712067, ..., 0.        , 0.06327271,\n",
       "       0.        ])"
      ]
     },
     "execution_count": 22,
     "metadata": {},
     "output_type": "execute_result"
    }
   ],
   "source": [
    "vec.get_local()"
   ]
  },
  {
   "cell_type": "code",
   "execution_count": 21,
   "id": "90e64f98",
   "metadata": {},
   "outputs": [
    {
     "data": {
      "text/plain": [
       "True"
      ]
     },
     "execution_count": 21,
     "metadata": {},
     "output_type": "execute_result"
    }
   ],
   "source": [
    "all(vec.get_local() == vec)"
   ]
  }
 ],
 "metadata": {
  "kernelspec": {
   "display_name": "Python 3 (ipykernel)",
   "language": "python",
   "name": "python3"
  },
  "language_info": {
   "codemirror_mode": {
    "name": "ipython",
    "version": 3
   },
   "file_extension": ".py",
   "mimetype": "text/x-python",
   "name": "python",
   "nbconvert_exporter": "python",
   "pygments_lexer": "ipython3",
   "version": "3.11.0"
  }
 },
 "nbformat": 4,
 "nbformat_minor": 5
}
