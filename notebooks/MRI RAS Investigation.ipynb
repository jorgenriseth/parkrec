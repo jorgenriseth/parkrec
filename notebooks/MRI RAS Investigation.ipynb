{
 "cells": [
  {
   "cell_type": "markdown",
   "id": "f3e30ca2",
   "metadata": {},
   "source": [
    "The goal of this notebook is to better understand the FreeSurfer coordinate systems. Mainly I'm wondering abouth the following question: \n",
    "\n",
    "__Why are the RAS-coordinates of my MRI-images as reported in freeview not properly aligned with an anatomical RAS coordinate system, wheras the tkReg-coordinates are?__"
   ]
  },
  {
   "cell_type": "code",
   "execution_count": 2,
   "id": "200791eb",
   "metadata": {},
   "outputs": [
    {
     "name": "stdout",
     "output_type": "stream",
     "text": [
      "/home/jorgen/parkrec\n"
     ]
    }
   ],
   "source": [
    "%cd ~/parkrec"
   ]
  },
  {
   "cell_type": "code",
   "execution_count": 5,
   "id": "a217e6dc",
   "metadata": {},
   "outputs": [],
   "source": [
    "import nibabel\n",
    "\n",
    "from pathlib import Path"
   ]
  },
  {
   "cell_type": "code",
   "execution_count": 25,
   "id": "5d4f030b",
   "metadata": {},
   "outputs": [],
   "source": [
    "impath = Path(\"DATA/PAT_002/VOLUMES/20230213_073508/T1.nii\")"
   ]
  },
  {
   "cell_type": "code",
   "execution_count": 26,
   "id": "3fd939ee",
   "metadata": {},
   "outputs": [],
   "source": [
    "mgz = nibabel.load(impath)"
   ]
  },
  {
   "cell_type": "code",
   "execution_count": 31,
   "id": "d5308745",
   "metadata": {},
   "outputs": [
    {
     "name": "stdout",
     "output_type": "stream",
     "text": [
      "<class 'nibabel.nifti1.Nifti1Header'> object, endian='<'\n",
      "sizeof_hdr      : 348\n",
      "data_type       : b''\n",
      "db_name         : b''\n",
      "extents         : 0\n",
      "session_error   : 0\n",
      "regular         : b'r'\n",
      "dim_info        : 54\n",
      "dim             : [  3 368 512 512   1   1   1   1]\n",
      "intent_p1       : 0.0\n",
      "intent_p2       : 0.0\n",
      "intent_p3       : 0.0\n",
      "intent_code     : none\n",
      "datatype        : int16\n",
      "bitpix          : 16\n",
      "slice_start     : 0\n",
      "pixdim          : [1.        0.5       0.5001665 0.5001665 0.0052    0.        0.\n",
      " 0.       ]\n",
      "vox_offset      : 0.0\n",
      "scl_slope       : nan\n",
      "scl_inter       : nan\n",
      "slice_end       : 0\n",
      "slice_code      : unknown\n",
      "xyzt_units      : 10\n",
      "cal_max         : 0.0\n",
      "cal_min         : 0.0\n",
      "slice_duration  : 0.0\n",
      "toffset         : 0.0\n",
      "glmax           : 0\n",
      "glmin           : 0\n",
      "descrip         : b'TE=2.3;Time=74913.230'\n",
      "aux_file        : b''\n",
      "qform_code      : scanner\n",
      "sform_code      : scanner\n",
      "quatern_b       : 0.039384242\n",
      "quatern_c       : -0.010746343\n",
      "quatern_d       : -0.08589678\n",
      "qoffset_x       : -108.40682\n",
      "qoffset_y       : -80.79109\n",
      "qoffset_z       : -136.85718\n",
      "srow_x          : [ 4.9250627e-01  8.5112534e-02 -1.4085300e-02 -1.0840682e+02]\n",
      "srow_y          : [-8.5930675e-02  4.9123412e-01 -3.8295392e-02 -8.0791092e+01]\n",
      "srow_z          : [ 7.3146536e-03  4.0142160e-02  4.9849930e-01 -1.3685718e+02]\n",
      "intent_name     : b''\n",
      "magic           : b'n+1'\n"
     ]
    }
   ],
   "source": [
    "print(mgz.header)"
   ]
  },
  {
   "cell_type": "code",
   "execution_count": null,
   "id": "e596789d",
   "metadata": {},
   "outputs": [],
   "source": []
  }
 ],
 "metadata": {
  "kernelspec": {
   "display_name": "Python 3 (ipykernel)",
   "language": "python",
   "name": "python3"
  },
  "language_info": {
   "codemirror_mode": {
    "name": "ipython",
    "version": 3
   },
   "file_extension": ".py",
   "mimetype": "text/x-python",
   "name": "python",
   "nbconvert_exporter": "python",
   "pygments_lexer": "ipython3",
   "version": "3.11.0"
  }
 },
 "nbformat": 4,
 "nbformat_minor": 5
}
