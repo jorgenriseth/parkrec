{
 "cells": [
  {
   "cell_type": "code",
   "execution_count": 16,
   "id": "b66fb0c9",
   "metadata": {},
   "outputs": [],
   "source": [
    "from pathlib import Path\n",
    "import nibabel"
   ]
  },
  {
   "cell_type": "code",
   "execution_count": 17,
   "id": "965a9423",
   "metadata": {},
   "outputs": [
    {
     "name": "stdout",
     "output_type": "stream",
     "text": [
      "/home/jorgen/parkrec\n"
     ]
    }
   ],
   "source": [
    "%cd ~/parkrec"
   ]
  },
  {
   "cell_type": "code",
   "execution_count": 19,
   "id": "2312eb38",
   "metadata": {},
   "outputs": [
    {
     "name": "stdout",
     "output_type": "stream",
     "text": [
      "<class 'nibabel.nifti1.Nifti1Header'> object, endian='<'\n",
      "sizeof_hdr      : 348\n",
      "data_type       : b''\n",
      "db_name         : b''\n",
      "extents         : 0\n",
      "session_error   : 0\n",
      "regular         : b'r'\n",
      "dim_info        : 54\n",
      "dim             : [  3 368 512 512   1   1   1   1]\n",
      "intent_p1       : 0.0\n",
      "intent_p2       : 0.0\n",
      "intent_p3       : 0.0\n",
      "intent_code     : none\n",
      "datatype        : int16\n",
      "bitpix          : 16\n",
      "slice_start     : 0\n",
      "pixdim          : [1.        0.5       0.5001665 0.5001665 0.0052    0.        0.\n",
      " 0.       ]\n",
      "vox_offset      : 0.0\n",
      "scl_slope       : nan\n",
      "scl_inter       : nan\n",
      "slice_end       : 0\n",
      "slice_code      : unknown\n",
      "xyzt_units      : 10\n",
      "cal_max         : 0.0\n",
      "cal_min         : 0.0\n",
      "slice_duration  : 0.0\n",
      "toffset         : 0.0\n",
      "glmax           : 0\n",
      "glmin           : 0\n",
      "descrip         : b'TE=2.3;Time=75350.530'\n",
      "aux_file        : b''\n",
      "qform_code      : scanner\n",
      "sform_code      : scanner\n",
      "quatern_b       : 0.0278303\n",
      "quatern_c       : 0.028548533\n",
      "quatern_d       : 0.01803123\n",
      "qoffset_x       : -93.228226\n",
      "qoffset_y       : -106.793945\n",
      "qoffset_z       : -108.508194\n",
      "srow_x          : [ 4.9885985e-01 -1.7225178e-02  2.9032668e-02 -9.3228226e+01]\n",
      "srow_y          : [ 1.88084748e-02  4.99066472e-01 -2.72979643e-02 -1.06793945e+02]\n",
      "srow_z          : [-2.80193742e-02  2.83278376e-02  4.98576403e-01 -1.08508194e+02]\n",
      "intent_name     : b''\n",
      "magic           : b'n+1'\n"
     ]
    }
   ],
   "source": [
    "DATAPATH = Path(\"DATA/PAT_001/VOLUMES/20230123_075013/\")\n",
    "t1 = nibabel.load(DATAPATH / \"T1.nii\")\n",
    "print(t1.header)"
   ]
  },
  {
   "cell_type": "code",
   "execution_count": 20,
   "id": "51274ee1",
   "metadata": {},
   "outputs": [
    {
     "name": "stdout",
     "output_type": "stream",
     "text": [
      "<class 'nibabel.nifti1.Nifti1Header'> object, endian='<'\n",
      "sizeof_hdr      : 348\n",
      "data_type       : b''\n",
      "db_name         : b''\n",
      "extents         : 0\n",
      "session_error   : 0\n",
      "regular         : b'r'\n",
      "dim_info        : 54\n",
      "dim             : [  3 368 512 512   1   1   1   1]\n",
      "intent_p1       : 0.0\n",
      "intent_p2       : 0.0\n",
      "intent_p3       : 0.0\n",
      "intent_code     : none\n",
      "datatype        : int16\n",
      "bitpix          : 16\n",
      "slice_start     : 0\n",
      "pixdim          : [1.        0.5       0.5001665 0.5001665 0.0052    0.        0.\n",
      " 0.       ]\n",
      "vox_offset      : 0.0\n",
      "scl_slope       : nan\n",
      "scl_inter       : nan\n",
      "slice_end       : 0\n",
      "slice_code      : unknown\n",
      "xyzt_units      : 10\n",
      "cal_max         : 0.0\n",
      "cal_min         : 0.0\n",
      "slice_duration  : 0.0\n",
      "toffset         : 0.0\n",
      "glmax           : 0\n",
      "glmin           : 0\n",
      "descrip         : b'TE=2.3;Time=85356.130'\n",
      "aux_file        : b''\n",
      "qform_code      : scanner\n",
      "sform_code      : scanner\n",
      "quatern_b       : 0.08966853\n",
      "quatern_c       : 0.00036194638\n",
      "quatern_d       : -0.010880528\n",
      "qoffset_x       : -87.71328\n",
      "qoffset_y       : -81.98712\n",
      "qoffset_z       : -155.43849\n",
      "srow_x          : [ 4.9988148e-01  1.0872125e-02 -6.1537890e-04 -8.7713280e+01]\n",
      "srow_y          : [-1.0803595e-02  4.9200493e-01 -8.9335650e-02 -8.1987122e+01]\n",
      "srow_z          : [-1.3361077e-03  8.9327775e-02  4.9212322e-01 -1.5543849e+02]\n",
      "intent_name     : b''\n",
      "magic           : b'n+1'\n"
     ]
    }
   ],
   "source": [
    "DATAPATH = Path(\"DATA/PAT_001/VOLUMES/20230124_084508/\")\n",
    "t1 = nibabel.load(DATAPATH / \"T1.nii\")\n",
    "print(t1.header)"
   ]
  }
 ],
 "metadata": {
  "kernelspec": {
   "display_name": "Python 3 (ipykernel)",
   "language": "python",
   "name": "python3"
  },
  "language_info": {
   "codemirror_mode": {
    "name": "ipython",
    "version": 3
   },
   "file_extension": ".py",
   "mimetype": "text/x-python",
   "name": "python",
   "nbconvert_exporter": "python",
   "pygments_lexer": "ipython3",
   "version": "3.11.0"
  }
 },
 "nbformat": 4,
 "nbformat_minor": 5
}
